{
 "cells": [
  {
   "cell_type": "markdown",
   "metadata": {},
   "source": [
    "# Packages"
   ]
  },
  {
   "cell_type": "code",
   "execution_count": 53,
   "metadata": {
    "ExecuteTime": {
     "end_time": "2020-07-17T22:25:00.676365Z",
     "start_time": "2020-07-17T22:25:00.672839Z"
    },
    "scrolled": true
   },
   "outputs": [],
   "source": [
    "from PIL import Image\n",
    "\n",
    "from os import listdir\n",
    "from os.path import isdir\n",
    "\n",
    "import numpy as np\n",
    "\n",
    "import matplotlib.pyplot as plt\n",
    "\n",
    "from sklearn.metrics import confusion_matrix\n",
    "from sklearn.model_selection import train_test_split\n",
    "from sklearn.preprocessing import LabelEncoder\n",
    "\n",
    "from tensorflow.keras.callbacks import (ModelCheckpoint, ReduceLROnPlateau)\n",
    "from tensorflow.keras import (layers, models, optimizers)\n",
    "from tensorflow.keras.applications import VGG19\n",
    "from tensorflow.keras.preprocessing.image import ImageDataGenerator\n",
    "from tensorflow.keras.utils import to_categorical"
   ]
  },
  {
   "cell_type": "markdown",
   "metadata": {},
   "source": [
    "# Dataset"
   ]
  },
  {
   "cell_type": "code",
   "execution_count": 2,
   "metadata": {
    "ExecuteTime": {
     "end_time": "2020-07-17T21:27:59.175607Z",
     "start_time": "2020-07-17T21:27:59.172214Z"
    }
   },
   "outputs": [],
   "source": [
    "def select_image(filename):\n",
    "    # load image from file\n",
    "    image = Image.open(filename)\n",
    "    # convert to RGB, if needed\n",
    "    image = image.convert('RGB')\n",
    "    image = image.resize((150,150))\n",
    "    # convert to array\n",
    "    return np.asarray(image)"
   ]
  },
  {
   "cell_type": "code",
   "execution_count": 3,
   "metadata": {
    "ExecuteTime": {
     "end_time": "2020-07-17T21:28:03.250087Z",
     "start_time": "2020-07-17T21:28:03.244019Z"
    }
   },
   "outputs": [],
   "source": [
    "def load_classes(diretorio, classe, imagens, labels):\n",
    "    # iterando arquivos\n",
    "\n",
    "    for filename in listdir(diretorio):\n",
    "\n",
    "        path = diretorio + filename\n",
    "\n",
    "        try:\n",
    "            imagens.append(select_image(path))\n",
    "            labels.append(classe)\n",
    "        except:\n",
    "            print(\"Erro ao ler imagem {}\".format(path))\n",
    "\n",
    "    return imagens, labels"
   ]
  },
  {
   "cell_type": "code",
   "execution_count": 4,
   "metadata": {
    "ExecuteTime": {
     "end_time": "2020-07-17T21:28:07.817649Z",
     "start_time": "2020-07-17T21:28:07.814189Z"
    }
   },
   "outputs": [],
   "source": [
    "def select_data_set(diretorio):\n",
    "\n",
    "    imagens = list()\n",
    "    labels = list()\n",
    "\n",
    "    for subdir in listdir(diretorio):\n",
    "        # path\n",
    "        path = diretorio + subdir + '/'\n",
    "\n",
    "        if not isdir(path):\n",
    "            continue\n",
    "        imagens, labels = load_classes(path, subdir, imagens, labels)\n",
    "\n",
    "    return imagens, labels"
   ]
  },
  {
   "cell_type": "code",
   "execution_count": 54,
   "metadata": {
    "ExecuteTime": {
     "end_time": "2020-07-17T22:33:44.830493Z",
     "start_time": "2020-07-17T22:33:40.703896Z"
    }
   },
   "outputs": [],
   "source": [
    "covid_dataset = \"dataset/\"\n",
    "imagens, labels  = select_data_set(covid_dataset)\n",
    "imagens = np.array(imagens) / 255.0  ## convertendo de lista para array\n",
    "labels = np.array(labels)  ## convertendo de lista para array"
   ]
  },
  {
   "cell_type": "code",
   "execution_count": 55,
   "metadata": {
    "ExecuteTime": {
     "end_time": "2020-07-17T22:33:49.146924Z",
     "start_time": "2020-07-17T22:33:49.143565Z"
    }
   },
   "outputs": [
    {
     "data": {
      "text/plain": [
       "array(['normal', 'normal', 'normal', 'normal', 'normal', 'normal',\n",
       "       'normal', 'normal', 'normal', 'normal', 'normal', 'normal',\n",
       "       'normal', 'normal', 'normal', 'normal', 'normal', 'normal',\n",
       "       'normal', 'normal', 'normal', 'normal', 'normal', 'normal',\n",
       "       'normal', 'normal', 'normal', 'normal', 'normal', 'normal',\n",
       "       'normal', 'normal', 'normal', 'normal', 'normal', 'normal',\n",
       "       'normal', 'normal', 'normal', 'normal', 'normal', 'normal',\n",
       "       'normal', 'normal', 'normal', 'normal', 'normal', 'normal',\n",
       "       'normal', 'normal', 'normal', 'normal', 'normal', 'normal',\n",
       "       'normal', 'normal', 'normal', 'normal', 'normal', 'normal',\n",
       "       'normal', 'normal', 'normal', 'normal', 'covid-19', 'covid-19',\n",
       "       'covid-19', 'covid-19', 'covid-19', 'covid-19', 'covid-19',\n",
       "       'covid-19', 'covid-19', 'covid-19', 'covid-19', 'covid-19',\n",
       "       'covid-19', 'covid-19', 'covid-19', 'covid-19', 'covid-19',\n",
       "       'covid-19', 'covid-19', 'covid-19', 'covid-19', 'covid-19',\n",
       "       'covid-19', 'covid-19', 'covid-19', 'covid-19', 'covid-19',\n",
       "       'covid-19', 'covid-19', 'covid-19', 'covid-19', 'covid-19',\n",
       "       'covid-19', 'covid-19', 'covid-19', 'covid-19', 'covid-19',\n",
       "       'covid-19', 'covid-19', 'covid-19', 'covid-19', 'covid-19',\n",
       "       'covid-19', 'covid-19', 'covid-19', 'covid-19', 'covid-19',\n",
       "       'covid-19', 'covid-19', 'covid-19', 'covid-19', 'covid-19',\n",
       "       'covid-19', 'covid-19', 'covid-19', 'covid-19', 'covid-19',\n",
       "       'covid-19', 'covid-19', 'covid-19', 'covid-19', 'covid-19',\n",
       "       'covid-19', 'covid-19', 'pneumonia', 'pneumonia', 'pneumonia',\n",
       "       'pneumonia', 'pneumonia', 'pneumonia', 'pneumonia', 'pneumonia',\n",
       "       'pneumonia', 'pneumonia', 'pneumonia', 'pneumonia', 'pneumonia',\n",
       "       'pneumonia', 'pneumonia', 'pneumonia', 'pneumonia', 'pneumonia',\n",
       "       'pneumonia', 'pneumonia', 'pneumonia', 'pneumonia', 'pneumonia',\n",
       "       'pneumonia', 'pneumonia', 'pneumonia', 'pneumonia', 'pneumonia',\n",
       "       'pneumonia', 'pneumonia', 'pneumonia', 'pneumonia', 'pneumonia',\n",
       "       'pneumonia', 'pneumonia', 'pneumonia', 'pneumonia', 'pneumonia',\n",
       "       'pneumonia', 'pneumonia', 'pneumonia', 'pneumonia', 'pneumonia',\n",
       "       'pneumonia', 'pneumonia', 'pneumonia', 'pneumonia', 'pneumonia',\n",
       "       'pneumonia', 'pneumonia', 'pneumonia', 'pneumonia', 'pneumonia',\n",
       "       'pneumonia', 'pneumonia', 'pneumonia', 'pneumonia', 'pneumonia',\n",
       "       'pneumonia', 'pneumonia', 'pneumonia', 'pneumonia', 'pneumonia',\n",
       "       'pneumonia'], dtype='<U9')"
      ]
     },
     "execution_count": 55,
     "metadata": {},
     "output_type": "execute_result"
    }
   ],
   "source": [
    "labels"
   ]
  },
  {
   "cell_type": "code",
   "execution_count": 56,
   "metadata": {
    "ExecuteTime": {
     "end_time": "2020-07-17T22:33:58.507922Z",
     "start_time": "2020-07-17T22:33:58.504924Z"
    }
   },
   "outputs": [],
   "source": [
    "encoder = LabelEncoder()\n",
    "labels = encoder.fit_transform(labels)\n",
    "labels = to_categorical(labels)"
   ]
  },
  {
   "cell_type": "code",
   "execution_count": 58,
   "metadata": {
    "ExecuteTime": {
     "end_time": "2020-07-17T22:34:06.947015Z",
     "start_time": "2020-07-17T22:34:06.940885Z"
    }
   },
   "outputs": [
    {
     "data": {
      "text/plain": [
       "array([[0., 1., 0.],\n",
       "       [0., 1., 0.],\n",
       "       [0., 1., 0.],\n",
       "       [0., 1., 0.],\n",
       "       [0., 1., 0.],\n",
       "       [0., 1., 0.],\n",
       "       [0., 1., 0.],\n",
       "       [0., 1., 0.],\n",
       "       [0., 1., 0.],\n",
       "       [0., 1., 0.],\n",
       "       [0., 1., 0.],\n",
       "       [0., 1., 0.],\n",
       "       [0., 1., 0.],\n",
       "       [0., 1., 0.],\n",
       "       [0., 1., 0.],\n",
       "       [0., 1., 0.],\n",
       "       [0., 1., 0.],\n",
       "       [0., 1., 0.],\n",
       "       [0., 1., 0.],\n",
       "       [0., 1., 0.],\n",
       "       [0., 1., 0.],\n",
       "       [0., 1., 0.],\n",
       "       [0., 1., 0.],\n",
       "       [0., 1., 0.],\n",
       "       [0., 1., 0.],\n",
       "       [0., 1., 0.],\n",
       "       [0., 1., 0.],\n",
       "       [0., 1., 0.],\n",
       "       [0., 1., 0.],\n",
       "       [0., 1., 0.],\n",
       "       [0., 1., 0.],\n",
       "       [0., 1., 0.],\n",
       "       [0., 1., 0.],\n",
       "       [0., 1., 0.],\n",
       "       [0., 1., 0.],\n",
       "       [0., 1., 0.],\n",
       "       [0., 1., 0.],\n",
       "       [0., 1., 0.],\n",
       "       [0., 1., 0.],\n",
       "       [0., 1., 0.],\n",
       "       [0., 1., 0.],\n",
       "       [0., 1., 0.],\n",
       "       [0., 1., 0.],\n",
       "       [0., 1., 0.],\n",
       "       [0., 1., 0.],\n",
       "       [0., 1., 0.],\n",
       "       [0., 1., 0.],\n",
       "       [0., 1., 0.],\n",
       "       [0., 1., 0.],\n",
       "       [0., 1., 0.],\n",
       "       [0., 1., 0.],\n",
       "       [0., 1., 0.],\n",
       "       [0., 1., 0.],\n",
       "       [0., 1., 0.],\n",
       "       [0., 1., 0.],\n",
       "       [0., 1., 0.],\n",
       "       [0., 1., 0.],\n",
       "       [0., 1., 0.],\n",
       "       [0., 1., 0.],\n",
       "       [0., 1., 0.],\n",
       "       [0., 1., 0.],\n",
       "       [0., 1., 0.],\n",
       "       [0., 1., 0.],\n",
       "       [0., 1., 0.],\n",
       "       [1., 0., 0.],\n",
       "       [1., 0., 0.],\n",
       "       [1., 0., 0.],\n",
       "       [1., 0., 0.],\n",
       "       [1., 0., 0.],\n",
       "       [1., 0., 0.],\n",
       "       [1., 0., 0.],\n",
       "       [1., 0., 0.],\n",
       "       [1., 0., 0.],\n",
       "       [1., 0., 0.],\n",
       "       [1., 0., 0.],\n",
       "       [1., 0., 0.],\n",
       "       [1., 0., 0.],\n",
       "       [1., 0., 0.],\n",
       "       [1., 0., 0.],\n",
       "       [1., 0., 0.],\n",
       "       [1., 0., 0.],\n",
       "       [1., 0., 0.],\n",
       "       [1., 0., 0.],\n",
       "       [1., 0., 0.],\n",
       "       [1., 0., 0.],\n",
       "       [1., 0., 0.],\n",
       "       [1., 0., 0.],\n",
       "       [1., 0., 0.],\n",
       "       [1., 0., 0.],\n",
       "       [1., 0., 0.],\n",
       "       [1., 0., 0.],\n",
       "       [1., 0., 0.],\n",
       "       [1., 0., 0.],\n",
       "       [1., 0., 0.],\n",
       "       [1., 0., 0.],\n",
       "       [1., 0., 0.],\n",
       "       [1., 0., 0.],\n",
       "       [1., 0., 0.],\n",
       "       [1., 0., 0.],\n",
       "       [1., 0., 0.],\n",
       "       [1., 0., 0.],\n",
       "       [1., 0., 0.],\n",
       "       [1., 0., 0.],\n",
       "       [1., 0., 0.],\n",
       "       [1., 0., 0.],\n",
       "       [1., 0., 0.],\n",
       "       [1., 0., 0.],\n",
       "       [1., 0., 0.],\n",
       "       [1., 0., 0.],\n",
       "       [1., 0., 0.],\n",
       "       [1., 0., 0.],\n",
       "       [1., 0., 0.],\n",
       "       [1., 0., 0.],\n",
       "       [1., 0., 0.],\n",
       "       [1., 0., 0.],\n",
       "       [1., 0., 0.],\n",
       "       [1., 0., 0.],\n",
       "       [1., 0., 0.],\n",
       "       [1., 0., 0.],\n",
       "       [1., 0., 0.],\n",
       "       [1., 0., 0.],\n",
       "       [1., 0., 0.],\n",
       "       [1., 0., 0.],\n",
       "       [1., 0., 0.],\n",
       "       [1., 0., 0.],\n",
       "       [1., 0., 0.],\n",
       "       [1., 0., 0.],\n",
       "       [1., 0., 0.],\n",
       "       [0., 0., 1.],\n",
       "       [0., 0., 1.],\n",
       "       [0., 0., 1.],\n",
       "       [0., 0., 1.],\n",
       "       [0., 0., 1.],\n",
       "       [0., 0., 1.],\n",
       "       [0., 0., 1.],\n",
       "       [0., 0., 1.],\n",
       "       [0., 0., 1.],\n",
       "       [0., 0., 1.],\n",
       "       [0., 0., 1.],\n",
       "       [0., 0., 1.],\n",
       "       [0., 0., 1.],\n",
       "       [0., 0., 1.],\n",
       "       [0., 0., 1.],\n",
       "       [0., 0., 1.],\n",
       "       [0., 0., 1.],\n",
       "       [0., 0., 1.],\n",
       "       [0., 0., 1.],\n",
       "       [0., 0., 1.],\n",
       "       [0., 0., 1.],\n",
       "       [0., 0., 1.],\n",
       "       [0., 0., 1.],\n",
       "       [0., 0., 1.],\n",
       "       [0., 0., 1.],\n",
       "       [0., 0., 1.],\n",
       "       [0., 0., 1.],\n",
       "       [0., 0., 1.],\n",
       "       [0., 0., 1.],\n",
       "       [0., 0., 1.],\n",
       "       [0., 0., 1.],\n",
       "       [0., 0., 1.],\n",
       "       [0., 0., 1.],\n",
       "       [0., 0., 1.],\n",
       "       [0., 0., 1.],\n",
       "       [0., 0., 1.],\n",
       "       [0., 0., 1.],\n",
       "       [0., 0., 1.],\n",
       "       [0., 0., 1.],\n",
       "       [0., 0., 1.],\n",
       "       [0., 0., 1.],\n",
       "       [0., 0., 1.],\n",
       "       [0., 0., 1.],\n",
       "       [0., 0., 1.],\n",
       "       [0., 0., 1.],\n",
       "       [0., 0., 1.],\n",
       "       [0., 0., 1.],\n",
       "       [0., 0., 1.],\n",
       "       [0., 0., 1.],\n",
       "       [0., 0., 1.],\n",
       "       [0., 0., 1.],\n",
       "       [0., 0., 1.],\n",
       "       [0., 0., 1.],\n",
       "       [0., 0., 1.],\n",
       "       [0., 0., 1.],\n",
       "       [0., 0., 1.],\n",
       "       [0., 0., 1.],\n",
       "       [0., 0., 1.],\n",
       "       [0., 0., 1.],\n",
       "       [0., 0., 1.],\n",
       "       [0., 0., 1.],\n",
       "       [0., 0., 1.],\n",
       "       [0., 0., 1.],\n",
       "       [0., 0., 1.]], dtype=float32)"
      ]
     },
     "execution_count": 58,
     "metadata": {},
     "output_type": "execute_result"
    }
   ],
   "source": [
    "labels"
   ]
  },
  {
   "cell_type": "markdown",
   "metadata": {},
   "source": [
    "# Model"
   ]
  },
  {
   "cell_type": "markdown",
   "metadata": {},
   "source": [
    "## Hyperparams"
   ]
  },
  {
   "cell_type": "code",
   "execution_count": 11,
   "metadata": {
    "ExecuteTime": {
     "end_time": "2020-07-17T21:29:20.878738Z",
     "start_time": "2020-07-17T21:29:20.873688Z"
    }
   },
   "outputs": [],
   "source": [
    "batch_size   = 32\n",
    "input_shape  = (150, 150, 3)\n",
    "random_state = 42\n",
    "alpha        = 1e-5\n",
    "epoch        = 100"
   ]
  },
  {
   "cell_type": "markdown",
   "metadata": {},
   "source": [
    "## Callbacks"
   ]
  },
  {
   "cell_type": "code",
   "execution_count": 27,
   "metadata": {
    "ExecuteTime": {
     "end_time": "2020-07-17T21:34:05.786689Z",
     "start_time": "2020-07-17T21:34:05.783746Z"
    }
   },
   "outputs": [],
   "source": [
    "filepath=\"transferlearning_weights.hdf5\"\n",
    "checkpoint = ModelCheckpoint(filepath, monitor='val_acc', verbose=1, save_best_only=True, mode='max')"
   ]
  },
  {
   "cell_type": "code",
   "execution_count": 29,
   "metadata": {
    "ExecuteTime": {
     "end_time": "2020-07-17T21:34:08.339065Z",
     "start_time": "2020-07-17T21:34:08.336275Z"
    }
   },
   "outputs": [],
   "source": [
    "lr_reduce = ReduceLROnPlateau(monitor='val_acc', factor=0.1, min_delta=alpha, patience=5, verbose=1)"
   ]
  },
  {
   "cell_type": "code",
   "execution_count": 30,
   "metadata": {
    "ExecuteTime": {
     "end_time": "2020-07-17T21:34:09.782364Z",
     "start_time": "2020-07-17T21:34:09.773794Z"
    }
   },
   "outputs": [],
   "source": [
    "callbacks = [checkpoint, lr_reduce]"
   ]
  },
  {
   "cell_type": "markdown",
   "metadata": {},
   "source": [
    "## Data augmentation"
   ]
  },
  {
   "cell_type": "code",
   "execution_count": 12,
   "metadata": {
    "ExecuteTime": {
     "end_time": "2020-07-17T21:30:29.891887Z",
     "start_time": "2020-07-17T21:30:29.791469Z"
    }
   },
   "outputs": [],
   "source": [
    "(X_train, X_test, y_train, y_test) = train_test_split(imagens, labels, test_size=0.20, stratify=labels, random_state=random_state)"
   ]
  },
  {
   "cell_type": "code",
   "execution_count": 14,
   "metadata": {
    "ExecuteTime": {
     "end_time": "2020-07-17T21:31:06.926434Z",
     "start_time": "2020-07-17T21:31:06.890590Z"
    }
   },
   "outputs": [],
   "source": [
    "train_datagen = ImageDataGenerator(\n",
    "        rotation_range=20,\n",
    "        zoom_range=0.2)\n",
    "\n",
    "train_datagen.fit(X_train)\n",
    "\n",
    "data_aug = train_datagen.flow(X_train, y_train, batch_size=batch_size)"
   ]
  },
  {
   "cell_type": "markdown",
   "metadata": {},
   "source": [
    "## Transfer learning - vgg19"
   ]
  },
  {
   "cell_type": "code",
   "execution_count": 15,
   "metadata": {
    "ExecuteTime": {
     "end_time": "2020-07-17T21:31:12.855690Z",
     "start_time": "2020-07-17T21:31:10.572270Z"
    }
   },
   "outputs": [],
   "source": [
    "conv_base = VGG19(weights='imagenet', include_top=False, input_shape=input_shape)"
   ]
  },
  {
   "cell_type": "code",
   "execution_count": 16,
   "metadata": {
    "ExecuteTime": {
     "end_time": "2020-07-17T21:31:14.229852Z",
     "start_time": "2020-07-17T21:31:14.199546Z"
    }
   },
   "outputs": [
    {
     "name": "stdout",
     "output_type": "stream",
     "text": [
      "Model: \"vgg19\"\n",
      "_________________________________________________________________\n",
      "Layer (type)                 Output Shape              Param #   \n",
      "=================================================================\n",
      "input_1 (InputLayer)         [(None, 150, 150, 3)]     0         \n",
      "_________________________________________________________________\n",
      "block1_conv1 (Conv2D)        (None, 150, 150, 64)      1792      \n",
      "_________________________________________________________________\n",
      "block1_conv2 (Conv2D)        (None, 150, 150, 64)      36928     \n",
      "_________________________________________________________________\n",
      "block1_pool (MaxPooling2D)   (None, 75, 75, 64)        0         \n",
      "_________________________________________________________________\n",
      "block2_conv1 (Conv2D)        (None, 75, 75, 128)       73856     \n",
      "_________________________________________________________________\n",
      "block2_conv2 (Conv2D)        (None, 75, 75, 128)       147584    \n",
      "_________________________________________________________________\n",
      "block2_pool (MaxPooling2D)   (None, 37, 37, 128)       0         \n",
      "_________________________________________________________________\n",
      "block3_conv1 (Conv2D)        (None, 37, 37, 256)       295168    \n",
      "_________________________________________________________________\n",
      "block3_conv2 (Conv2D)        (None, 37, 37, 256)       590080    \n",
      "_________________________________________________________________\n",
      "block3_conv3 (Conv2D)        (None, 37, 37, 256)       590080    \n",
      "_________________________________________________________________\n",
      "block3_conv4 (Conv2D)        (None, 37, 37, 256)       590080    \n",
      "_________________________________________________________________\n",
      "block3_pool (MaxPooling2D)   (None, 18, 18, 256)       0         \n",
      "_________________________________________________________________\n",
      "block4_conv1 (Conv2D)        (None, 18, 18, 512)       1180160   \n",
      "_________________________________________________________________\n",
      "block4_conv2 (Conv2D)        (None, 18, 18, 512)       2359808   \n",
      "_________________________________________________________________\n",
      "block4_conv3 (Conv2D)        (None, 18, 18, 512)       2359808   \n",
      "_________________________________________________________________\n",
      "block4_conv4 (Conv2D)        (None, 18, 18, 512)       2359808   \n",
      "_________________________________________________________________\n",
      "block4_pool (MaxPooling2D)   (None, 9, 9, 512)         0         \n",
      "_________________________________________________________________\n",
      "block5_conv1 (Conv2D)        (None, 9, 9, 512)         2359808   \n",
      "_________________________________________________________________\n",
      "block5_conv2 (Conv2D)        (None, 9, 9, 512)         2359808   \n",
      "_________________________________________________________________\n",
      "block5_conv3 (Conv2D)        (None, 9, 9, 512)         2359808   \n",
      "_________________________________________________________________\n",
      "block5_conv4 (Conv2D)        (None, 9, 9, 512)         2359808   \n",
      "_________________________________________________________________\n",
      "block5_pool (MaxPooling2D)   (None, 4, 4, 512)         0         \n",
      "=================================================================\n",
      "Total params: 20,024,384\n",
      "Trainable params: 20,024,384\n",
      "Non-trainable params: 0\n",
      "_________________________________________________________________\n"
     ]
    }
   ],
   "source": [
    "conv_base.summary()"
   ]
  },
  {
   "cell_type": "code",
   "execution_count": 18,
   "metadata": {
    "ExecuteTime": {
     "end_time": "2020-07-17T21:31:42.236810Z",
     "start_time": "2020-07-17T21:31:42.229675Z"
    }
   },
   "outputs": [],
   "source": [
    "conv_base.trainable = True\n",
    "set_trainable = False\n",
    "\n",
    "for layer in conv_base.layers:\n",
    "    if layer.name == 'block5_conv1':\n",
    "        set_trainable = True\n",
    "    if set_trainable:\n",
    "        layer.trainable = True\n",
    "    else:\n",
    "        layer.trainable = False"
   ]
  },
  {
   "cell_type": "code",
   "execution_count": 19,
   "metadata": {
    "ExecuteTime": {
     "end_time": "2020-07-17T21:31:59.279313Z",
     "start_time": "2020-07-17T21:31:59.268600Z"
    }
   },
   "outputs": [
    {
     "name": "stdout",
     "output_type": "stream",
     "text": [
      "Model: \"vgg19\"\n",
      "_________________________________________________________________\n",
      "Layer (type)                 Output Shape              Param #   \n",
      "=================================================================\n",
      "input_1 (InputLayer)         [(None, 150, 150, 3)]     0         \n",
      "_________________________________________________________________\n",
      "block1_conv1 (Conv2D)        (None, 150, 150, 64)      1792      \n",
      "_________________________________________________________________\n",
      "block1_conv2 (Conv2D)        (None, 150, 150, 64)      36928     \n",
      "_________________________________________________________________\n",
      "block1_pool (MaxPooling2D)   (None, 75, 75, 64)        0         \n",
      "_________________________________________________________________\n",
      "block2_conv1 (Conv2D)        (None, 75, 75, 128)       73856     \n",
      "_________________________________________________________________\n",
      "block2_conv2 (Conv2D)        (None, 75, 75, 128)       147584    \n",
      "_________________________________________________________________\n",
      "block2_pool (MaxPooling2D)   (None, 37, 37, 128)       0         \n",
      "_________________________________________________________________\n",
      "block3_conv1 (Conv2D)        (None, 37, 37, 256)       295168    \n",
      "_________________________________________________________________\n",
      "block3_conv2 (Conv2D)        (None, 37, 37, 256)       590080    \n",
      "_________________________________________________________________\n",
      "block3_conv3 (Conv2D)        (None, 37, 37, 256)       590080    \n",
      "_________________________________________________________________\n",
      "block3_conv4 (Conv2D)        (None, 37, 37, 256)       590080    \n",
      "_________________________________________________________________\n",
      "block3_pool (MaxPooling2D)   (None, 18, 18, 256)       0         \n",
      "_________________________________________________________________\n",
      "block4_conv1 (Conv2D)        (None, 18, 18, 512)       1180160   \n",
      "_________________________________________________________________\n",
      "block4_conv2 (Conv2D)        (None, 18, 18, 512)       2359808   \n",
      "_________________________________________________________________\n",
      "block4_conv3 (Conv2D)        (None, 18, 18, 512)       2359808   \n",
      "_________________________________________________________________\n",
      "block4_conv4 (Conv2D)        (None, 18, 18, 512)       2359808   \n",
      "_________________________________________________________________\n",
      "block4_pool (MaxPooling2D)   (None, 9, 9, 512)         0         \n",
      "_________________________________________________________________\n",
      "block5_conv1 (Conv2D)        (None, 9, 9, 512)         2359808   \n",
      "_________________________________________________________________\n",
      "block5_conv2 (Conv2D)        (None, 9, 9, 512)         2359808   \n",
      "_________________________________________________________________\n",
      "block5_conv3 (Conv2D)        (None, 9, 9, 512)         2359808   \n",
      "_________________________________________________________________\n",
      "block5_conv4 (Conv2D)        (None, 9, 9, 512)         2359808   \n",
      "_________________________________________________________________\n",
      "block5_pool (MaxPooling2D)   (None, 4, 4, 512)         0         \n",
      "=================================================================\n",
      "Total params: 20,024,384\n",
      "Trainable params: 9,439,232\n",
      "Non-trainable params: 10,585,152\n",
      "_________________________________________________________________\n"
     ]
    }
   ],
   "source": [
    "conv_base.summary()"
   ]
  },
  {
   "cell_type": "markdown",
   "metadata": {},
   "source": [
    "## Adding new layers to improve accuracy"
   ]
  },
  {
   "cell_type": "code",
   "execution_count": 20,
   "metadata": {
    "ExecuteTime": {
     "end_time": "2020-07-17T21:32:39.684215Z",
     "start_time": "2020-07-17T21:32:39.541956Z"
    }
   },
   "outputs": [],
   "source": [
    "model = models.Sequential()\n",
    "model.add(conv_base)\n",
    "model.add(layers.GlobalAveragePooling2D())\n",
    "model.add(layers.BatchNormalization())\n",
    "model.add(layers.Flatten())\n",
    "model.add(layers.Dense(128, activation='relu'))\n",
    "model.add(layers.Dropout(0.6))\n",
    "model.add(layers.Dense(3, activation='softmax'))"
   ]
  },
  {
   "cell_type": "code",
   "execution_count": 21,
   "metadata": {
    "ExecuteTime": {
     "end_time": "2020-07-17T21:32:41.712616Z",
     "start_time": "2020-07-17T21:32:41.701462Z"
    }
   },
   "outputs": [
    {
     "name": "stdout",
     "output_type": "stream",
     "text": [
      "Model: \"sequential\"\n",
      "_________________________________________________________________\n",
      "Layer (type)                 Output Shape              Param #   \n",
      "=================================================================\n",
      "vgg19 (Model)                (None, 4, 4, 512)         20024384  \n",
      "_________________________________________________________________\n",
      "global_average_pooling2d (Gl (None, 512)               0         \n",
      "_________________________________________________________________\n",
      "batch_normalization (BatchNo (None, 512)               2048      \n",
      "_________________________________________________________________\n",
      "flatten (Flatten)            (None, 512)               0         \n",
      "_________________________________________________________________\n",
      "dense (Dense)                (None, 128)               65664     \n",
      "_________________________________________________________________\n",
      "dropout (Dropout)            (None, 128)               0         \n",
      "_________________________________________________________________\n",
      "dense_1 (Dense)              (None, 3)                 387       \n",
      "=================================================================\n",
      "Total params: 20,092,483\n",
      "Trainable params: 9,506,307\n",
      "Non-trainable params: 10,586,176\n",
      "_________________________________________________________________\n"
     ]
    }
   ],
   "source": [
    "model.summary()"
   ]
  },
  {
   "cell_type": "code",
   "execution_count": 22,
   "metadata": {
    "ExecuteTime": {
     "end_time": "2020-07-17T21:32:54.176301Z",
     "start_time": "2020-07-17T21:32:54.162563Z"
    }
   },
   "outputs": [],
   "source": [
    "model.compile(loss='binary_crossentropy',\n",
    "                  optimizer='adam',\n",
    "                  metrics=['acc'])"
   ]
  },
  {
   "cell_type": "markdown",
   "metadata": {},
   "source": [
    "## Model fitting"
   ]
  },
  {
   "cell_type": "code",
   "execution_count": 31,
   "metadata": {
    "ExecuteTime": {
     "end_time": "2020-07-17T22:09:52.319063Z",
     "start_time": "2020-07-17T21:34:14.565390Z"
    }
   },
   "outputs": [
    {
     "name": "stdout",
     "output_type": "stream",
     "text": [
      "WARNING:tensorflow:From <ipython-input-31-06142e20e4ea>:7: Model.fit_generator (from tensorflow.python.keras.engine.training) is deprecated and will be removed in a future version.\n",
      "Instructions for updating:\n",
      "Please use Model.fit, which supports generators.\n",
      "Epoch 1/100\n",
      "4/4 [==============================] - ETA: 0s - loss: 0.7283 - acc: 0.4793\n",
      "Epoch 00001: val_acc improved from -inf to 0.58974, saving model to transferlearning_weights.hdf5\n",
      "4/4 [==============================] - 12s 3s/step - loss: 0.7283 - acc: 0.4793 - val_loss: 0.8428 - val_acc: 0.5897 - lr: 0.0010\n",
      "Epoch 2/100\n",
      "4/4 [==============================] - ETA: 0s - loss: 0.4108 - acc: 0.7188\n",
      "Epoch 00002: val_acc improved from 0.58974 to 0.64103, saving model to transferlearning_weights.hdf5\n",
      "4/4 [==============================] - 19s 5s/step - loss: 0.4108 - acc: 0.7188 - val_loss: 1.1084 - val_acc: 0.6410 - lr: 0.0010\n",
      "Epoch 3/100\n",
      "4/4 [==============================] - ETA: 0s - loss: 0.3259 - acc: 0.7851\n",
      "Epoch 00003: val_acc improved from 0.64103 to 0.97436, saving model to transferlearning_weights.hdf5\n",
      "4/4 [==============================] - 18s 5s/step - loss: 0.3259 - acc: 0.7851 - val_loss: 0.0500 - val_acc: 0.9744 - lr: 0.0010\n",
      "Epoch 4/100\n",
      "4/4 [==============================] - ETA: 0s - loss: 0.2443 - acc: 0.8678\n",
      "Epoch 00004: val_acc did not improve from 0.97436\n",
      "4/4 [==============================] - 18s 4s/step - loss: 0.2443 - acc: 0.8678 - val_loss: 5.7533 - val_acc: 0.3333 - lr: 0.0010\n",
      "Epoch 5/100\n",
      "4/4 [==============================] - ETA: 0s - loss: 0.2040 - acc: 0.9008\n",
      "Epoch 00005: val_acc did not improve from 0.97436\n",
      "4/4 [==============================] - 18s 4s/step - loss: 0.2040 - acc: 0.9008 - val_loss: 2.5154 - val_acc: 0.6667 - lr: 0.0010\n",
      "Epoch 6/100\n",
      "4/4 [==============================] - ETA: 0s - loss: 0.1665 - acc: 0.9174\n",
      "Epoch 00006: val_acc did not improve from 0.97436\n",
      "4/4 [==============================] - 17s 4s/step - loss: 0.1665 - acc: 0.9174 - val_loss: 4.8671 - val_acc: 0.4359 - lr: 0.0010\n",
      "Epoch 7/100\n",
      "4/4 [==============================] - ETA: 0s - loss: 0.1213 - acc: 0.9256\n",
      "Epoch 00007: val_acc did not improve from 0.97436\n",
      "4/4 [==============================] - 17s 4s/step - loss: 0.1213 - acc: 0.9256 - val_loss: 0.8475 - val_acc: 0.7949 - lr: 0.0010\n",
      "Epoch 8/100\n",
      "4/4 [==============================] - ETA: 0s - loss: 0.1075 - acc: 0.9421\n",
      "Epoch 00008: val_acc did not improve from 0.97436\n",
      "\n",
      "Epoch 00008: ReduceLROnPlateau reducing learning rate to 0.00010000000474974513.\n",
      "4/4 [==============================] - 16s 4s/step - loss: 0.1075 - acc: 0.9421 - val_loss: 2.8900 - val_acc: 0.6667 - lr: 0.0010\n",
      "Epoch 9/100\n",
      "4/4 [==============================] - ETA: 0s - loss: 0.1249 - acc: 0.9062\n",
      "Epoch 00009: val_acc did not improve from 0.97436\n",
      "4/4 [==============================] - 17s 4s/step - loss: 0.1249 - acc: 0.9062 - val_loss: 0.9748 - val_acc: 0.7179 - lr: 1.0000e-04\n",
      "Epoch 10/100\n",
      "4/4 [==============================] - ETA: 0s - loss: 0.0951 - acc: 0.9339\n",
      "Epoch 00010: val_acc did not improve from 0.97436\n",
      "4/4 [==============================] - 17s 4s/step - loss: 0.0951 - acc: 0.9339 - val_loss: 0.3207 - val_acc: 0.8462 - lr: 1.0000e-04\n",
      "Epoch 11/100\n",
      "4/4 [==============================] - ETA: 0s - loss: 0.0870 - acc: 0.9504\n",
      "Epoch 00011: val_acc did not improve from 0.97436\n",
      "4/4 [==============================] - 17s 4s/step - loss: 0.0870 - acc: 0.9504 - val_loss: 0.1695 - val_acc: 0.9487 - lr: 1.0000e-04\n",
      "Epoch 12/100\n",
      "4/4 [==============================] - ETA: 0s - loss: 0.0672 - acc: 0.9669\n",
      "Epoch 00012: val_acc did not improve from 0.97436\n",
      "4/4 [==============================] - 16s 4s/step - loss: 0.0672 - acc: 0.9669 - val_loss: 0.2178 - val_acc: 0.9231 - lr: 1.0000e-04\n",
      "Epoch 13/100\n",
      "4/4 [==============================] - ETA: 0s - loss: 0.0828 - acc: 0.9587\n",
      "Epoch 00013: val_acc did not improve from 0.97436\n",
      "\n",
      "Epoch 00013: ReduceLROnPlateau reducing learning rate to 1.0000000474974514e-05.\n",
      "4/4 [==============================] - 17s 4s/step - loss: 0.0828 - acc: 0.9587 - val_loss: 0.2392 - val_acc: 0.9487 - lr: 1.0000e-04\n",
      "Epoch 14/100\n",
      "4/4 [==============================] - ETA: 0s - loss: 0.0800 - acc: 0.9421\n",
      "Epoch 00014: val_acc did not improve from 0.97436\n",
      "4/4 [==============================] - 17s 4s/step - loss: 0.0800 - acc: 0.9421 - val_loss: 0.2110 - val_acc: 0.9487 - lr: 1.0000e-05\n",
      "Epoch 15/100\n",
      "4/4 [==============================] - ETA: 0s - loss: 0.0522 - acc: 0.9752\n",
      "Epoch 00015: val_acc did not improve from 0.97436\n",
      "4/4 [==============================] - 17s 4s/step - loss: 0.0522 - acc: 0.9752 - val_loss: 0.1995 - val_acc: 0.8974 - lr: 1.0000e-05\n",
      "Epoch 16/100\n",
      "4/4 [==============================] - ETA: 0s - loss: 0.0592 - acc: 0.9669\n",
      "Epoch 00016: val_acc did not improve from 0.97436\n",
      "4/4 [==============================] - 16s 4s/step - loss: 0.0592 - acc: 0.9669 - val_loss: 0.1898 - val_acc: 0.8974 - lr: 1.0000e-05\n",
      "Epoch 17/100\n",
      "4/4 [==============================] - ETA: 0s - loss: 0.1057 - acc: 0.9421\n",
      "Epoch 00017: val_acc did not improve from 0.97436\n",
      "4/4 [==============================] - 18s 4s/step - loss: 0.1057 - acc: 0.9421 - val_loss: 0.1801 - val_acc: 0.8974 - lr: 1.0000e-05\n",
      "Epoch 18/100\n",
      "4/4 [==============================] - ETA: 0s - loss: 0.0431 - acc: 0.9752\n",
      "Epoch 00018: val_acc did not improve from 0.97436\n",
      "\n",
      "Epoch 00018: ReduceLROnPlateau reducing learning rate to 1.0000000656873453e-06.\n",
      "4/4 [==============================] - 16s 4s/step - loss: 0.0431 - acc: 0.9752 - val_loss: 0.1751 - val_acc: 0.8974 - lr: 1.0000e-05\n",
      "Epoch 19/100\n",
      "4/4 [==============================] - ETA: 0s - loss: 0.0493 - acc: 0.9752\n",
      "Epoch 00019: val_acc did not improve from 0.97436\n",
      "4/4 [==============================] - 17s 4s/step - loss: 0.0493 - acc: 0.9752 - val_loss: 0.1620 - val_acc: 0.8974 - lr: 1.0000e-06\n",
      "Epoch 20/100\n",
      "4/4 [==============================] - ETA: 0s - loss: 0.0765 - acc: 0.9587\n",
      "Epoch 00020: val_acc did not improve from 0.97436\n",
      "4/4 [==============================] - 17s 4s/step - loss: 0.0765 - acc: 0.9587 - val_loss: 0.1567 - val_acc: 0.8974 - lr: 1.0000e-06\n",
      "Epoch 21/100\n",
      "4/4 [==============================] - ETA: 0s - loss: 0.0503 - acc: 0.9669\n",
      "Epoch 00021: val_acc did not improve from 0.97436\n",
      "4/4 [==============================] - 16s 4s/step - loss: 0.0503 - acc: 0.9669 - val_loss: 0.1470 - val_acc: 0.8974 - lr: 1.0000e-06\n",
      "Epoch 22/100\n",
      "4/4 [==============================] - ETA: 0s - loss: 0.0580 - acc: 0.9752\n",
      "Epoch 00022: val_acc did not improve from 0.97436\n",
      "4/4 [==============================] - 17s 4s/step - loss: 0.0580 - acc: 0.9752 - val_loss: 0.1395 - val_acc: 0.9231 - lr: 1.0000e-06\n",
      "Epoch 23/100\n",
      "4/4 [==============================] - ETA: 0s - loss: 0.0551 - acc: 0.9609\n",
      "Epoch 00023: val_acc did not improve from 0.97436\n",
      "\n",
      "Epoch 00023: ReduceLROnPlateau reducing learning rate to 1.0000001111620805e-07.\n",
      "4/4 [==============================] - 18s 4s/step - loss: 0.0551 - acc: 0.9609 - val_loss: 0.1325 - val_acc: 0.9231 - lr: 1.0000e-06\n",
      "Epoch 24/100\n",
      "4/4 [==============================] - ETA: 0s - loss: 0.0727 - acc: 0.9504\n",
      "Epoch 00024: val_acc did not improve from 0.97436\n",
      "4/4 [==============================] - 16s 4s/step - loss: 0.0727 - acc: 0.9504 - val_loss: 0.1255 - val_acc: 0.9231 - lr: 1.0000e-07\n",
      "Epoch 25/100\n",
      "4/4 [==============================] - ETA: 0s - loss: 0.0773 - acc: 0.9587\n",
      "Epoch 00025: val_acc did not improve from 0.97436\n",
      "4/4 [==============================] - 17s 4s/step - loss: 0.0773 - acc: 0.9587 - val_loss: 0.1223 - val_acc: 0.9231 - lr: 1.0000e-07\n",
      "Epoch 26/100\n",
      "4/4 [==============================] - ETA: 0s - loss: 0.0612 - acc: 0.9669\n",
      "Epoch 00026: val_acc did not improve from 0.97436\n",
      "4/4 [==============================] - 17s 4s/step - loss: 0.0612 - acc: 0.9669 - val_loss: 0.1175 - val_acc: 0.9231 - lr: 1.0000e-07\n",
      "Epoch 27/100\n",
      "4/4 [==============================] - ETA: 0s - loss: 0.0716 - acc: 0.9752\n",
      "Epoch 00027: val_acc did not improve from 0.97436\n",
      "4/4 [==============================] - 17s 4s/step - loss: 0.0716 - acc: 0.9752 - val_loss: 0.1144 - val_acc: 0.9231 - lr: 1.0000e-07\n",
      "Epoch 28/100\n",
      "4/4 [==============================] - ETA: 0s - loss: 0.0283 - acc: 1.0000\n",
      "Epoch 00028: val_acc did not improve from 0.97436\n",
      "\n",
      "Epoch 00028: ReduceLROnPlateau reducing learning rate to 1.000000082740371e-08.\n",
      "4/4 [==============================] - 18s 4s/step - loss: 0.0283 - acc: 1.0000 - val_loss: 0.1104 - val_acc: 0.9231 - lr: 1.0000e-07\n"
     ]
    },
    {
     "name": "stdout",
     "output_type": "stream",
     "text": [
      "Epoch 29/100\n",
      "4/4 [==============================] - ETA: 0s - loss: 0.0725 - acc: 0.9504\n",
      "Epoch 00029: val_acc did not improve from 0.97436\n",
      "4/4 [==============================] - 18s 4s/step - loss: 0.0725 - acc: 0.9504 - val_loss: 0.1069 - val_acc: 0.9231 - lr: 1.0000e-08\n",
      "Epoch 30/100\n",
      "4/4 [==============================] - ETA: 0s - loss: 0.0545 - acc: 0.9752\n",
      "Epoch 00030: val_acc did not improve from 0.97436\n",
      "4/4 [==============================] - 17s 4s/step - loss: 0.0545 - acc: 0.9752 - val_loss: 0.1063 - val_acc: 0.9231 - lr: 1.0000e-08\n",
      "Epoch 31/100\n",
      "4/4 [==============================] - ETA: 0s - loss: 0.0885 - acc: 0.9421\n",
      "Epoch 00031: val_acc did not improve from 0.97436\n",
      "4/4 [==============================] - 17s 4s/step - loss: 0.0885 - acc: 0.9421 - val_loss: 0.1047 - val_acc: 0.9231 - lr: 1.0000e-08\n",
      "Epoch 32/100\n",
      "4/4 [==============================] - ETA: 0s - loss: 0.0667 - acc: 0.9669\n",
      "Epoch 00032: val_acc did not improve from 0.97436\n",
      "4/4 [==============================] - 17s 4s/step - loss: 0.0667 - acc: 0.9669 - val_loss: 0.1015 - val_acc: 0.9231 - lr: 1.0000e-08\n",
      "Epoch 33/100\n",
      "4/4 [==============================] - ETA: 0s - loss: 0.0633 - acc: 0.9669\n",
      "Epoch 00033: val_acc did not improve from 0.97436\n",
      "\n",
      "Epoch 00033: ReduceLROnPlateau reducing learning rate to 1.000000082740371e-09.\n",
      "4/4 [==============================] - 17s 4s/step - loss: 0.0633 - acc: 0.9669 - val_loss: 0.0997 - val_acc: 0.9231 - lr: 1.0000e-08\n",
      "Epoch 34/100\n",
      "4/4 [==============================] - ETA: 0s - loss: 0.0593 - acc: 0.9752\n",
      "Epoch 00034: val_acc did not improve from 0.97436\n",
      "4/4 [==============================] - 16s 4s/step - loss: 0.0593 - acc: 0.9752 - val_loss: 0.0972 - val_acc: 0.9744 - lr: 1.0000e-09\n",
      "Epoch 35/100\n",
      "4/4 [==============================] - ETA: 0s - loss: 0.0857 - acc: 0.9531\n",
      "Epoch 00035: val_acc did not improve from 0.97436\n",
      "4/4 [==============================] - 18s 4s/step - loss: 0.0857 - acc: 0.9531 - val_loss: 0.0953 - val_acc: 0.9744 - lr: 1.0000e-09\n",
      "Epoch 36/100\n",
      "4/4 [==============================] - ETA: 0s - loss: 0.0715 - acc: 0.9504\n",
      "Epoch 00036: val_acc did not improve from 0.97436\n",
      "4/4 [==============================] - 17s 4s/step - loss: 0.0715 - acc: 0.9504 - val_loss: 0.0934 - val_acc: 0.9744 - lr: 1.0000e-09\n",
      "Epoch 37/100\n",
      "4/4 [==============================] - ETA: 0s - loss: 0.0652 - acc: 0.9752\n",
      "Epoch 00037: val_acc did not improve from 0.97436\n",
      "4/4 [==============================] - 18s 4s/step - loss: 0.0652 - acc: 0.9752 - val_loss: 0.0917 - val_acc: 0.9744 - lr: 1.0000e-09\n",
      "Epoch 38/100\n",
      "4/4 [==============================] - ETA: 0s - loss: 0.0829 - acc: 0.9504\n",
      "Epoch 00038: val_acc did not improve from 0.97436\n",
      "\n",
      "Epoch 00038: ReduceLROnPlateau reducing learning rate to 1.000000082740371e-10.\n",
      "4/4 [==============================] - 17s 4s/step - loss: 0.0829 - acc: 0.9504 - val_loss: 0.0905 - val_acc: 0.9744 - lr: 1.0000e-09\n",
      "Epoch 39/100\n",
      "4/4 [==============================] - ETA: 0s - loss: 0.0576 - acc: 0.9669\n",
      "Epoch 00039: val_acc did not improve from 0.97436\n",
      "4/4 [==============================] - 18s 4s/step - loss: 0.0576 - acc: 0.9669 - val_loss: 0.0896 - val_acc: 0.9744 - lr: 1.0000e-10\n",
      "Epoch 40/100\n",
      "4/4 [==============================] - ETA: 0s - loss: 0.0694 - acc: 0.9669\n",
      "Epoch 00040: val_acc did not improve from 0.97436\n",
      "4/4 [==============================] - 18s 4s/step - loss: 0.0694 - acc: 0.9669 - val_loss: 0.0889 - val_acc: 0.9744 - lr: 1.0000e-10\n",
      "Epoch 41/100\n",
      "4/4 [==============================] - ETA: 0s - loss: 0.0778 - acc: 0.9587\n",
      "Epoch 00041: val_acc did not improve from 0.97436\n",
      "4/4 [==============================] - 16s 4s/step - loss: 0.0778 - acc: 0.9587 - val_loss: 0.0880 - val_acc: 0.9744 - lr: 1.0000e-10\n",
      "Epoch 42/100\n",
      "4/4 [==============================] - ETA: 0s - loss: 0.0755 - acc: 0.9609\n",
      "Epoch 00042: val_acc did not improve from 0.97436\n",
      "4/4 [==============================] - 18s 4s/step - loss: 0.0755 - acc: 0.9609 - val_loss: 0.0870 - val_acc: 0.9744 - lr: 1.0000e-10\n",
      "Epoch 43/100\n",
      "4/4 [==============================] - ETA: 0s - loss: 0.1496 - acc: 0.9174\n",
      "Epoch 00043: val_acc did not improve from 0.97436\n",
      "\n",
      "Epoch 00043: ReduceLROnPlateau reducing learning rate to 1.000000082740371e-11.\n",
      "4/4 [==============================] - 16s 4s/step - loss: 0.1496 - acc: 0.9174 - val_loss: 0.0871 - val_acc: 0.9744 - lr: 1.0000e-10\n",
      "Epoch 44/100\n",
      "4/4 [==============================] - ETA: 0s - loss: 0.0548 - acc: 0.9752\n",
      "Epoch 00044: val_acc did not improve from 0.97436\n",
      "4/4 [==============================] - 18s 4s/step - loss: 0.0548 - acc: 0.9752 - val_loss: 0.0864 - val_acc: 0.9744 - lr: 1.0000e-11\n",
      "Epoch 45/100\n",
      "4/4 [==============================] - ETA: 0s - loss: 0.0736 - acc: 0.9587\n",
      "Epoch 00045: val_acc did not improve from 0.97436\n",
      "4/4 [==============================] - 17s 4s/step - loss: 0.0736 - acc: 0.9587 - val_loss: 0.0856 - val_acc: 0.9487 - lr: 1.0000e-11\n",
      "Epoch 46/100\n",
      "4/4 [==============================] - ETA: 0s - loss: 0.0565 - acc: 0.9669\n",
      "Epoch 00046: val_acc did not improve from 0.97436\n",
      "4/4 [==============================] - 18s 4s/step - loss: 0.0565 - acc: 0.9669 - val_loss: 0.0856 - val_acc: 0.9487 - lr: 1.0000e-11\n",
      "Epoch 47/100\n",
      "4/4 [==============================] - ETA: 0s - loss: 0.0446 - acc: 0.9835\n",
      "Epoch 00047: val_acc did not improve from 0.97436\n",
      "4/4 [==============================] - 18s 4s/step - loss: 0.0446 - acc: 0.9835 - val_loss: 0.0852 - val_acc: 0.9487 - lr: 1.0000e-11\n",
      "Epoch 48/100\n",
      "4/4 [==============================] - ETA: 0s - loss: 0.0842 - acc: 0.9504\n",
      "Epoch 00048: val_acc did not improve from 0.97436\n",
      "\n",
      "Epoch 00048: ReduceLROnPlateau reducing learning rate to 1.000000082740371e-12.\n",
      "4/4 [==============================] - 17s 4s/step - loss: 0.0842 - acc: 0.9504 - val_loss: 0.0842 - val_acc: 0.9487 - lr: 1.0000e-11\n",
      "Epoch 49/100\n",
      "4/4 [==============================] - ETA: 0s - loss: 0.0563 - acc: 0.9752\n",
      "Epoch 00049: val_acc did not improve from 0.97436\n",
      "4/4 [==============================] - 17s 4s/step - loss: 0.0563 - acc: 0.9752 - val_loss: 0.0835 - val_acc: 0.9487 - lr: 1.0000e-12\n",
      "Epoch 50/100\n",
      "4/4 [==============================] - ETA: 0s - loss: 0.0934 - acc: 0.9421\n",
      "Epoch 00050: val_acc did not improve from 0.97436\n",
      "4/4 [==============================] - 17s 4s/step - loss: 0.0934 - acc: 0.9421 - val_loss: 0.0831 - val_acc: 0.9487 - lr: 1.0000e-12\n",
      "Epoch 51/100\n",
      "4/4 [==============================] - ETA: 0s - loss: 0.0694 - acc: 0.9609\n",
      "Epoch 00051: val_acc did not improve from 0.97436\n",
      "4/4 [==============================] - 18s 4s/step - loss: 0.0694 - acc: 0.9609 - val_loss: 0.0825 - val_acc: 0.9487 - lr: 1.0000e-12\n",
      "Epoch 52/100\n",
      "4/4 [==============================] - ETA: 0s - loss: 0.0663 - acc: 0.9688\n",
      "Epoch 00052: val_acc did not improve from 0.97436\n",
      "4/4 [==============================] - 18s 4s/step - loss: 0.0663 - acc: 0.9688 - val_loss: 0.0818 - val_acc: 0.9487 - lr: 1.0000e-12\n",
      "Epoch 53/100\n",
      "4/4 [==============================] - ETA: 0s - loss: 0.0531 - acc: 0.9752\n",
      "Epoch 00053: val_acc did not improve from 0.97436\n",
      "\n",
      "Epoch 00053: ReduceLROnPlateau reducing learning rate to 1.0000001044244145e-13.\n",
      "4/4 [==============================] - 17s 4s/step - loss: 0.0531 - acc: 0.9752 - val_loss: 0.0814 - val_acc: 0.9487 - lr: 1.0000e-12\n",
      "Epoch 54/100\n",
      "4/4 [==============================] - ETA: 0s - loss: 0.0480 - acc: 0.9752\n",
      "Epoch 00054: val_acc did not improve from 0.97436\n",
      "4/4 [==============================] - 17s 4s/step - loss: 0.0480 - acc: 0.9752 - val_loss: 0.0809 - val_acc: 0.9487 - lr: 1.0000e-13\n",
      "Epoch 55/100\n",
      "4/4 [==============================] - ETA: 0s - loss: 0.0734 - acc: 0.9766\n",
      "Epoch 00055: val_acc did not improve from 0.97436\n",
      "4/4 [==============================] - 18s 4s/step - loss: 0.0734 - acc: 0.9766 - val_loss: 0.0808 - val_acc: 0.9487 - lr: 1.0000e-13\n",
      "Epoch 56/100\n",
      "4/4 [==============================] - ETA: 0s - loss: 0.0625 - acc: 0.9587\n",
      "Epoch 00056: val_acc did not improve from 0.97436\n",
      "4/4 [==============================] - 17s 4s/step - loss: 0.0625 - acc: 0.9587 - val_loss: 0.0811 - val_acc: 0.9487 - lr: 1.0000e-13\n",
      "Epoch 57/100\n",
      "4/4 [==============================] - ETA: 0s - loss: 0.0800 - acc: 0.9669\n",
      "Epoch 00057: val_acc did not improve from 0.97436\n",
      "4/4 [==============================] - 17s 4s/step - loss: 0.0800 - acc: 0.9669 - val_loss: 0.0808 - val_acc: 0.9487 - lr: 1.0000e-13\n"
     ]
    },
    {
     "name": "stdout",
     "output_type": "stream",
     "text": [
      "Epoch 58/100\n",
      "4/4 [==============================] - ETA: 0s - loss: 0.0605 - acc: 0.9587\n",
      "Epoch 00058: val_acc did not improve from 0.97436\n",
      "\n",
      "Epoch 00058: ReduceLROnPlateau reducing learning rate to 1.0000001179769417e-14.\n",
      "4/4 [==============================] - 18s 4s/step - loss: 0.0605 - acc: 0.9587 - val_loss: 0.0802 - val_acc: 0.9487 - lr: 1.0000e-13\n",
      "Epoch 59/100\n",
      "4/4 [==============================] - ETA: 0s - loss: 0.0796 - acc: 0.9504\n",
      "Epoch 00059: val_acc did not improve from 0.97436\n",
      "4/4 [==============================] - 17s 4s/step - loss: 0.0796 - acc: 0.9504 - val_loss: 0.0801 - val_acc: 0.9487 - lr: 1.0000e-14\n",
      "Epoch 60/100\n",
      "4/4 [==============================] - ETA: 0s - loss: 0.0492 - acc: 0.9766\n",
      "Epoch 00060: val_acc did not improve from 0.97436\n",
      "4/4 [==============================] - 17s 4s/step - loss: 0.0492 - acc: 0.9766 - val_loss: 0.0798 - val_acc: 0.9487 - lr: 1.0000e-14\n",
      "Epoch 61/100\n",
      "4/4 [==============================] - ETA: 0s - loss: 0.0836 - acc: 0.9609\n",
      "Epoch 00061: val_acc did not improve from 0.97436\n",
      "4/4 [==============================] - 17s 4s/step - loss: 0.0836 - acc: 0.9609 - val_loss: 0.0795 - val_acc: 0.9487 - lr: 1.0000e-14\n",
      "Epoch 62/100\n",
      "4/4 [==============================] - ETA: 0s - loss: 0.0475 - acc: 0.9844\n",
      "Epoch 00062: val_acc did not improve from 0.97436\n",
      "4/4 [==============================] - 17s 4s/step - loss: 0.0475 - acc: 0.9844 - val_loss: 0.0796 - val_acc: 0.9487 - lr: 1.0000e-14\n",
      "Epoch 63/100\n",
      "4/4 [==============================] - ETA: 0s - loss: 0.0614 - acc: 0.9587\n",
      "Epoch 00063: val_acc did not improve from 0.97436\n",
      "\n",
      "Epoch 00063: ReduceLROnPlateau reducing learning rate to 1.0000001518582595e-15.\n",
      "4/4 [==============================] - 17s 4s/step - loss: 0.0614 - acc: 0.9587 - val_loss: 0.0796 - val_acc: 0.9487 - lr: 1.0000e-14\n",
      "Epoch 64/100\n",
      "4/4 [==============================] - ETA: 0s - loss: 0.0529 - acc: 0.9752\n",
      "Epoch 00064: val_acc did not improve from 0.97436\n",
      "4/4 [==============================] - 16s 4s/step - loss: 0.0529 - acc: 0.9752 - val_loss: 0.0798 - val_acc: 0.9487 - lr: 1.0000e-15\n",
      "Epoch 65/100\n",
      "4/4 [==============================] - ETA: 0s - loss: 0.0721 - acc: 0.9504\n",
      "Epoch 00065: val_acc did not improve from 0.97436\n",
      "4/4 [==============================] - 17s 4s/step - loss: 0.0721 - acc: 0.9504 - val_loss: 0.0800 - val_acc: 0.9487 - lr: 1.0000e-15\n",
      "Epoch 66/100\n",
      "4/4 [==============================] - ETA: 0s - loss: 0.0693 - acc: 0.9587\n",
      "Epoch 00066: val_acc did not improve from 0.97436\n",
      "4/4 [==============================] - 16s 4s/step - loss: 0.0693 - acc: 0.9587 - val_loss: 0.0799 - val_acc: 0.9487 - lr: 1.0000e-15\n",
      "Epoch 67/100\n",
      "4/4 [==============================] - ETA: 0s - loss: 0.0565 - acc: 0.9587\n",
      "Epoch 00067: val_acc did not improve from 0.97436\n",
      "4/4 [==============================] - 18s 4s/step - loss: 0.0565 - acc: 0.9587 - val_loss: 0.0794 - val_acc: 0.9487 - lr: 1.0000e-15\n",
      "Epoch 68/100\n",
      "4/4 [==============================] - ETA: 0s - loss: 0.0592 - acc: 0.9752\n",
      "Epoch 00068: val_acc did not improve from 0.97436\n",
      "\n",
      "Epoch 00068: ReduceLROnPlateau reducing learning rate to 1.0000001095066122e-16.\n",
      "4/4 [==============================] - 17s 4s/step - loss: 0.0592 - acc: 0.9752 - val_loss: 0.0795 - val_acc: 0.9487 - lr: 1.0000e-15\n",
      "Epoch 69/100\n",
      "4/4 [==============================] - ETA: 0s - loss: 0.0763 - acc: 0.9669\n",
      "Epoch 00069: val_acc did not improve from 0.97436\n",
      "4/4 [==============================] - 16s 4s/step - loss: 0.0763 - acc: 0.9669 - val_loss: 0.0795 - val_acc: 0.9487 - lr: 1.0000e-16\n",
      "Epoch 70/100\n",
      "4/4 [==============================] - ETA: 0s - loss: 0.0481 - acc: 0.9835\n",
      "Epoch 00070: val_acc did not improve from 0.97436\n",
      "4/4 [==============================] - 17s 4s/step - loss: 0.0481 - acc: 0.9835 - val_loss: 0.0799 - val_acc: 0.9487 - lr: 1.0000e-16\n",
      "Epoch 71/100\n",
      "4/4 [==============================] - ETA: 0s - loss: 0.0587 - acc: 0.9587\n",
      "Epoch 00071: val_acc did not improve from 0.97436\n",
      "4/4 [==============================] - 17s 4s/step - loss: 0.0587 - acc: 0.9587 - val_loss: 0.0800 - val_acc: 0.9487 - lr: 1.0000e-16\n",
      "Epoch 72/100\n",
      "4/4 [==============================] - ETA: 0s - loss: 0.0470 - acc: 0.9917\n",
      "Epoch 00072: val_acc did not improve from 0.97436\n",
      "4/4 [==============================] - 17s 4s/step - loss: 0.0470 - acc: 0.9917 - val_loss: 0.0797 - val_acc: 0.9487 - lr: 1.0000e-16\n",
      "Epoch 73/100\n",
      "4/4 [==============================] - ETA: 0s - loss: 0.0629 - acc: 0.9587\n",
      "Epoch 00073: val_acc did not improve from 0.97436\n",
      "\n",
      "Epoch 00073: ReduceLROnPlateau reducing learning rate to 1.0000000830368326e-17.\n",
      "4/4 [==============================] - 17s 4s/step - loss: 0.0629 - acc: 0.9587 - val_loss: 0.0798 - val_acc: 0.9487 - lr: 1.0000e-16\n",
      "Epoch 74/100\n",
      "4/4 [==============================] - ETA: 0s - loss: 0.0707 - acc: 0.9504\n",
      "Epoch 00074: val_acc did not improve from 0.97436\n",
      "4/4 [==============================] - 17s 4s/step - loss: 0.0707 - acc: 0.9504 - val_loss: 0.0801 - val_acc: 0.9487 - lr: 1.0000e-17\n",
      "Epoch 75/100\n",
      "4/4 [==============================] - ETA: 0s - loss: 0.1039 - acc: 0.9421\n",
      "Epoch 00075: val_acc did not improve from 0.97436\n",
      "4/4 [==============================] - 18s 4s/step - loss: 0.1039 - acc: 0.9421 - val_loss: 0.0805 - val_acc: 0.9487 - lr: 1.0000e-17\n",
      "Epoch 76/100\n",
      "4/4 [==============================] - ETA: 0s - loss: 0.0947 - acc: 0.9453\n",
      "Epoch 00076: val_acc did not improve from 0.97436\n",
      "4/4 [==============================] - 18s 4s/step - loss: 0.0947 - acc: 0.9453 - val_loss: 0.0805 - val_acc: 0.9487 - lr: 1.0000e-17\n",
      "Epoch 77/100\n",
      "4/4 [==============================] - ETA: 0s - loss: 0.0633 - acc: 0.9766\n",
      "Epoch 00077: val_acc did not improve from 0.97436\n",
      "4/4 [==============================] - 17s 4s/step - loss: 0.0633 - acc: 0.9766 - val_loss: 0.0807 - val_acc: 0.9487 - lr: 1.0000e-17\n",
      "Epoch 78/100\n",
      "4/4 [==============================] - ETA: 0s - loss: 0.0817 - acc: 0.9669\n",
      "Epoch 00078: val_acc did not improve from 0.97436\n",
      "\n",
      "Epoch 00078: ReduceLROnPlateau reducing learning rate to 1.0000000664932204e-18.\n",
      "4/4 [==============================] - 17s 4s/step - loss: 0.0817 - acc: 0.9669 - val_loss: 0.0801 - val_acc: 0.9487 - lr: 1.0000e-17\n",
      "Epoch 79/100\n",
      "4/4 [==============================] - ETA: 0s - loss: 0.0573 - acc: 0.9504\n",
      "Epoch 00079: val_acc did not improve from 0.97436\n",
      "4/4 [==============================] - 16s 4s/step - loss: 0.0573 - acc: 0.9504 - val_loss: 0.0802 - val_acc: 0.9487 - lr: 1.0000e-18\n",
      "Epoch 80/100\n",
      "4/4 [==============================] - ETA: 0s - loss: 0.0500 - acc: 0.9669\n",
      "Epoch 00080: val_acc did not improve from 0.97436\n",
      "4/4 [==============================] - 17s 4s/step - loss: 0.0500 - acc: 0.9669 - val_loss: 0.0806 - val_acc: 0.9487 - lr: 1.0000e-18\n",
      "Epoch 81/100\n",
      "4/4 [==============================] - ETA: 0s - loss: 0.0637 - acc: 0.9752\n",
      "Epoch 00081: val_acc did not improve from 0.97436\n",
      "4/4 [==============================] - 17s 4s/step - loss: 0.0637 - acc: 0.9752 - val_loss: 0.0804 - val_acc: 0.9487 - lr: 1.0000e-18\n",
      "Epoch 82/100\n",
      "4/4 [==============================] - ETA: 0s - loss: 0.0391 - acc: 0.9766\n",
      "Epoch 00082: val_acc did not improve from 0.97436\n",
      "4/4 [==============================] - 17s 4s/step - loss: 0.0391 - acc: 0.9766 - val_loss: 0.0804 - val_acc: 0.9487 - lr: 1.0000e-18\n",
      "Epoch 83/100\n",
      "4/4 [==============================] - ETA: 0s - loss: 0.0773 - acc: 0.9587\n",
      "Epoch 00083: val_acc did not improve from 0.97436\n",
      "\n",
      "Epoch 00083: ReduceLROnPlateau reducing learning rate to 1.000000045813705e-19.\n",
      "4/4 [==============================] - 17s 4s/step - loss: 0.0773 - acc: 0.9587 - val_loss: 0.0803 - val_acc: 0.9487 - lr: 1.0000e-18\n",
      "Epoch 84/100\n",
      "4/4 [==============================] - ETA: 0s - loss: 0.0585 - acc: 0.9609\n",
      "Epoch 00084: val_acc did not improve from 0.97436\n",
      "4/4 [==============================] - 17s 4s/step - loss: 0.0585 - acc: 0.9609 - val_loss: 0.0801 - val_acc: 0.9487 - lr: 1.0000e-19\n",
      "Epoch 85/100\n",
      "4/4 [==============================] - ETA: 0s - loss: 0.0645 - acc: 0.9531\n",
      "Epoch 00085: val_acc did not improve from 0.97436\n",
      "4/4 [==============================] - 17s 4s/step - loss: 0.0645 - acc: 0.9531 - val_loss: 0.0800 - val_acc: 0.9487 - lr: 1.0000e-19\n",
      "Epoch 86/100\n"
     ]
    },
    {
     "name": "stdout",
     "output_type": "stream",
     "text": [
      "4/4 [==============================] - ETA: 0s - loss: 0.0658 - acc: 0.9609\n",
      "Epoch 00086: val_acc did not improve from 0.97436\n",
      "4/4 [==============================] - 17s 4s/step - loss: 0.0658 - acc: 0.9609 - val_loss: 0.0802 - val_acc: 0.9487 - lr: 1.0000e-19\n",
      "Epoch 87/100\n",
      "4/4 [==============================] - ETA: 0s - loss: 0.0483 - acc: 0.9835\n",
      "Epoch 00087: val_acc did not improve from 0.97436\n",
      "4/4 [==============================] - 17s 4s/step - loss: 0.0483 - acc: 0.9835 - val_loss: 0.0805 - val_acc: 0.9487 - lr: 1.0000e-19\n",
      "Epoch 88/100\n",
      "4/4 [==============================] - ETA: 0s - loss: 0.0518 - acc: 0.9835\n",
      "Epoch 00088: val_acc did not improve from 0.97436\n",
      "\n",
      "Epoch 00088: ReduceLROnPlateau reducing learning rate to 1.000000032889008e-20.\n",
      "4/4 [==============================] - 16s 4s/step - loss: 0.0518 - acc: 0.9835 - val_loss: 0.0801 - val_acc: 0.9487 - lr: 1.0000e-19\n",
      "Epoch 89/100\n",
      "4/4 [==============================] - ETA: 0s - loss: 0.0431 - acc: 0.9917\n",
      "Epoch 00089: val_acc did not improve from 0.97436\n",
      "4/4 [==============================] - 16s 4s/step - loss: 0.0431 - acc: 0.9917 - val_loss: 0.0799 - val_acc: 0.9487 - lr: 1.0000e-20\n",
      "Epoch 90/100\n",
      "4/4 [==============================] - ETA: 0s - loss: 0.1018 - acc: 0.9453\n",
      "Epoch 00090: val_acc did not improve from 0.97436\n",
      "4/4 [==============================] - 18s 4s/step - loss: 0.1018 - acc: 0.9453 - val_loss: 0.0796 - val_acc: 0.9487 - lr: 1.0000e-20\n",
      "Epoch 91/100\n",
      "4/4 [==============================] - ETA: 0s - loss: 0.0508 - acc: 0.9766\n",
      "Epoch 00091: val_acc did not improve from 0.97436\n",
      "4/4 [==============================] - 18s 4s/step - loss: 0.0508 - acc: 0.9766 - val_loss: 0.0793 - val_acc: 0.9487 - lr: 1.0000e-20\n",
      "Epoch 92/100\n",
      "4/4 [==============================] - ETA: 0s - loss: 0.0447 - acc: 0.9766\n",
      "Epoch 00092: val_acc did not improve from 0.97436\n",
      "4/4 [==============================] - 18s 4s/step - loss: 0.0447 - acc: 0.9766 - val_loss: 0.0793 - val_acc: 0.9487 - lr: 1.0000e-20\n",
      "Epoch 93/100\n",
      "4/4 [==============================] - ETA: 0s - loss: 0.0399 - acc: 1.0000\n",
      "Epoch 00093: val_acc did not improve from 0.97436\n",
      "\n",
      "Epoch 00093: ReduceLROnPlateau reducing learning rate to 1.0000000490448793e-21.\n",
      "4/4 [==============================] - 17s 4s/step - loss: 0.0399 - acc: 1.0000 - val_loss: 0.0791 - val_acc: 0.9487 - lr: 1.0000e-20\n",
      "Epoch 94/100\n",
      "4/4 [==============================] - ETA: 0s - loss: 0.0585 - acc: 0.9752\n",
      "Epoch 00094: val_acc did not improve from 0.97436\n",
      "4/4 [==============================] - 17s 4s/step - loss: 0.0585 - acc: 0.9752 - val_loss: 0.0792 - val_acc: 0.9487 - lr: 1.0000e-21\n",
      "Epoch 95/100\n",
      "4/4 [==============================] - ETA: 0s - loss: 0.0435 - acc: 0.9917\n",
      "Epoch 00095: val_acc did not improve from 0.97436\n",
      "4/4 [==============================] - 18s 4s/step - loss: 0.0435 - acc: 0.9917 - val_loss: 0.0788 - val_acc: 0.9487 - lr: 1.0000e-21\n",
      "Epoch 96/100\n",
      "4/4 [==============================] - ETA: 0s - loss: 0.0803 - acc: 0.9669\n",
      "Epoch 00096: val_acc did not improve from 0.97436\n",
      "4/4 [==============================] - 16s 4s/step - loss: 0.0803 - acc: 0.9669 - val_loss: 0.0786 - val_acc: 0.9487 - lr: 1.0000e-21\n",
      "Epoch 97/100\n",
      "4/4 [==============================] - ETA: 0s - loss: 0.0899 - acc: 0.9587\n",
      "Epoch 00097: val_acc did not improve from 0.97436\n",
      "4/4 [==============================] - 16s 4s/step - loss: 0.0899 - acc: 0.9587 - val_loss: 0.0782 - val_acc: 0.9487 - lr: 1.0000e-21\n",
      "Epoch 98/100\n",
      "4/4 [==============================] - ETA: 0s - loss: 0.0568 - acc: 0.9688\n",
      "Epoch 00098: val_acc did not improve from 0.97436\n",
      "\n",
      "Epoch 00098: ReduceLROnPlateau reducing learning rate to 1.0000000692397185e-22.\n",
      "4/4 [==============================] - 17s 4s/step - loss: 0.0568 - acc: 0.9688 - val_loss: 0.0784 - val_acc: 0.9487 - lr: 1.0000e-21\n",
      "Epoch 99/100\n",
      "4/4 [==============================] - ETA: 0s - loss: 0.0935 - acc: 0.9421\n",
      "Epoch 00099: val_acc did not improve from 0.97436\n",
      "4/4 [==============================] - 16s 4s/step - loss: 0.0935 - acc: 0.9421 - val_loss: 0.0784 - val_acc: 0.9487 - lr: 1.0000e-22\n",
      "Epoch 100/100\n",
      "4/4 [==============================] - ETA: 0s - loss: 0.0617 - acc: 0.9688\n",
      "Epoch 00100: val_acc did not improve from 0.97436\n",
      "4/4 [==============================] - 17s 4s/step - loss: 0.0617 - acc: 0.9688 - val_loss: 0.0783 - val_acc: 0.9487 - lr: 1.0000e-22\n"
     ]
    }
   ],
   "source": [
    "history = model.fit_generator(\n",
    "                              data_aug,\n",
    "                              steps_per_epoch=len(X_train)// batch_size, # parte inteira da divisão\n",
    "                              validation_data=(X_test, y_test),\n",
    "                              validation_steps=len(X_test) // batch_size,# parte inteira da divisão\n",
    "                              callbacks=callbacks,\n",
    "                              epochs=epoch)\n",
    "\n"
   ]
  },
  {
   "cell_type": "code",
   "execution_count": 33,
   "metadata": {
    "ExecuteTime": {
     "end_time": "2020-07-17T22:09:53.098136Z",
     "start_time": "2020-07-17T22:09:52.669861Z"
    }
   },
   "outputs": [
    {
     "data": {
      "image/png": "[encoded data removed]",
      "text/plain": [
       "<Figure size 432x288 with 1 Axes>"
      ]
     },
     "metadata": {
      "needs_background": "dark"
     },
     "output_type": "display_data"
    },
    {
     "data": {
      "image/png": "[encoded data removed]",
      "text/plain": [
       "<Figure size 432x288 with 1 Axes>"
      ]
     },
     "metadata": {
      "needs_background": "dark"
     },
     "output_type": "display_data"
    }
   ],
   "source": [
    "plt.plot(history.history['acc'])\n",
    "plt.plot(history.history['val_acc'])\n",
    "plt.title('model accuracy')\n",
    "plt.ylabel('accuracy')\n",
    "plt.xlabel('epoch')\n",
    "plt.legend(['train', 'test'], loc='upper left')\n",
    "plt.show()\n",
    "# summarize history for loss\n",
    "plt.plot(history.history['loss'])\n",
    "plt.plot(history.history['val_loss'])\n",
    "plt.title('model loss')\n",
    "plt.ylabel('loss')\n",
    "plt.xlabel('epoch')\n",
    "plt.legend(['train', 'test'], loc='upper left')\n",
    "plt.show()"
   ]
  },
  {
   "cell_type": "markdown",
   "metadata": {},
   "source": [
    "## Prediction"
   ]
  },
  {
   "cell_type": "code",
   "execution_count": 39,
   "metadata": {
    "ExecuteTime": {
     "end_time": "2020-07-17T22:11:23.911596Z",
     "start_time": "2020-07-17T22:11:21.625803Z"
    }
   },
   "outputs": [],
   "source": [
    "pred = model.predict(X_test)\n",
    "pred = np.argmax(pred, axis=1)\n",
    "y_true = np.argmax(y_test, axis=1)"
   ]
  },
  {
   "cell_type": "code",
   "execution_count": 59,
   "metadata": {
    "ExecuteTime": {
     "end_time": "2020-07-17T22:34:37.306149Z",
     "start_time": "2020-07-17T22:34:37.212157Z"
    }
   },
   "outputs": [
    {
     "name": "stdout",
     "output_type": "stream",
     "text": [
      "Acurácia: 0.95\n"
     ]
    },
    {
     "data": {
      "image/png": "[encoded data removed]",
      "text/plain": [
       "<Figure size 360x360 with 1 Axes>"
      ]
     },
     "metadata": {
      "needs_background": "dark"
     },
     "output_type": "display_data"
    }
   ],
   "source": [
    "cm = confusion_matrix(y_true, pred)\n",
    "acc = (cm[0, 0] + cm[1, 1] + cm[2,2]) / sum(sum(cm))\n",
    "\n",
    "print(f\"Acurácia: {round(acc, 2)}\")\n",
    "\n",
    "class_names = [ 'normal', 'COVID-19', 'pneumonia']\n",
    "\n",
    "from mlxtend.plotting import plot_confusion_matrix\n",
    "fig, ax = plot_confusion_matrix(conf_mat=cm ,  figsize=(5, 5), class_names=class_names)\n",
    "plt.title(f'Accuracy: {round(100 * acc, 1)} %')\n",
    "plt.show()"
   ]
  }
 ],
 "metadata": {
  "kernelspec": {
   "display_name": "Python 3",
   "language": "python",
   "name": "python3"
  },
  "language_info": {
   "codemirror_mode": {
    "name": "ipython",
    "version": 3
   },
   "file_extension": ".py",
   "mimetype": "text/x-python",
   "name": "python",
   "nbconvert_exporter": "python",
   "pygments_lexer": "ipython3",
   "version": "3.7.7"
  },
  "toc": {
   "base_numbering": 1,
   "nav_menu": {},
   "number_sections": true,
   "sideBar": true,
   "skip_h1_title": false,
   "title_cell": "Table of Contents",
   "title_sidebar": "Contents",
   "toc_cell": false,
   "toc_position": {},
   "toc_section_display": true,
   "toc_window_display": false
  },
  "varInspector": {
   "cols": {
    "lenName": 16,
    "lenType": 16,
    "lenVar": 40
   },
   "kernels_config": {
    "python": {
     "delete_cmd_postfix": "",
     "delete_cmd_prefix": "del ",
     "library": "var_list.py",
     "varRefreshCmd": "print(var_dic_list())"
    },
    "r": {
     "delete_cmd_postfix": ") ",
     "delete_cmd_prefix": "rm(",
     "library": "var_list.r",
     "varRefreshCmd": "cat(var_dic_list()) "
    }
   },
   "types_to_exclude": [
    "module",
    "function",
    "builtin_function_or_method",
    "instance",
    "_Feature"
   ],
   "window_display": false
  }
 },
 "nbformat": 4,
 "nbformat_minor": 2
}
