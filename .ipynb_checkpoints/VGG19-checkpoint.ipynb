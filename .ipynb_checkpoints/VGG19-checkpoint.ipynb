{
 "cells": [
  {
   "cell_type": "markdown",
   "metadata": {},
   "source": [
    "## REFERÊNCIAS"
   ]
  },
  {
   "cell_type": "markdown",
   "metadata": {},
   "source": [
    "IDEIA ORIGINAL: <br/>\n",
    "Adam Rosembrock <br/>\n",
    "pyimagesearch.com - \n",
    "https://www.pyimagesearch.com/2020/03/16/detecting-covid-19-in-x-ray-images-with-keras-tensorflow-and-deep-learning/\n",
    "\n",
    "\n"
   ]
  },
  {
   "cell_type": "markdown",
   "metadata": {},
   "source": [
    "## ATENÇÃO\n",
    "\n",
    "Os métodos e técnicas usados neste vídeo são apenas para fins educacionais. Esse não é um estudo cientificamente rigoroso, nem será publicado em uma revista científica´."
   ]
  },
  {
   "cell_type": "markdown",
   "metadata": {},
   "source": [
    "## AGENDA\n",
    "\n",
    "Dentro do tutorial de hoje, você aprenderá como:\n",
    "\n",
    "- Abrir uma base de imagens de raio-X  (open data) de pacientes com resultado POSITIVO para COVID-19 e imagens de pacientes com resultado NEGATIVO.\n",
    "\n",
    "\n",
    "- Dividir o dataset de imagens em conjunto de teste e conjunto de treino \n",
    "\n",
    "\n",
    "- Aplicar a técnica de aumento de dados (Data Augmentation)\n",
    "\n",
    "\n",
    "\n",
    "- Aplicar a técnica de transferência de inteligência entre redes neurais (Transfer Learning)\n",
    "\n",
    "\n",
    "- Treinar uma Rede Neural Convolucional com o Tensorflow/Keras para detectar automaticamente o COVID-19 em imagens de raios-X \n",
    "\n",
    "\n",
    "- Avaliar os resultados sob uma perspectiva educacional"
   ]
  },
  {
   "cell_type": "markdown",
   "metadata": {},
   "source": [
    "## importações de bibliotecas"
   ]
  },
  {
   "cell_type": "code",
   "execution_count": 1,
   "metadata": {
    "scrolled": true
   },
   "outputs": [],
   "source": [
    "from PIL import Image\n",
    "from os import listdir\n",
    "from os.path import isdir\n",
    "import numpy as np\n",
    "from sklearn.model_selection import train_test_split\n",
    "from sklearn.preprocessing import LabelEncoder\n",
    "from tensorflow.keras.preprocessing.image import ImageDataGenerator\n",
    "from tensorflow.keras.applications import VGG19\n",
    "from tensorflow.keras.utils import to_categorical\n",
    "from tensorflow.keras import layers\n",
    "from tensorflow.keras import models\n",
    "from tensorflow.keras import optimizers"
   ]
  },
  {
   "cell_type": "markdown",
   "metadata": {},
   "source": [
    "### Carregando uma imagem"
   ]
  },
  {
   "cell_type": "code",
   "execution_count": 2,
   "metadata": {},
   "outputs": [],
   "source": [
    "def select_image(filename):\n",
    "    # load image from file\n",
    "    image = Image.open(filename)\n",
    "    # convert to RGB, if needed\n",
    "    image = image.convert('RGB')\n",
    "    image = image.resize((150,150))\n",
    "    # convert to array\n",
    "    return np.asarray(image)"
   ]
  },
  {
   "cell_type": "markdown",
   "metadata": {},
   "source": [
    "### Carregando uma classe"
   ]
  },
  {
   "cell_type": "code",
   "execution_count": 3,
   "metadata": {},
   "outputs": [],
   "source": [
    "def load_classes(diretorio, classe, imagens, labels):\n",
    "    # iterando arquivos\n",
    "\n",
    "    for filename in listdir(diretorio):\n",
    "\n",
    "        path = diretorio + filename\n",
    "\n",
    "        try:\n",
    "            imagens.append(select_image(path))\n",
    "            labels.append(classe)\n",
    "        except:\n",
    "            print(\"Erro ao ler imagem {}\".format(path))\n",
    "\n",
    "    return imagens, labels"
   ]
  },
  {
   "cell_type": "markdown",
   "metadata": {},
   "source": [
    "### Selecionando Dataset"
   ]
  },
  {
   "cell_type": "code",
   "execution_count": 4,
   "metadata": {},
   "outputs": [],
   "source": [
    "def select_data_set(diretorio):\n",
    "\n",
    "    imagens = list()\n",
    "    labels = list()\n",
    "\n",
    "    for subdir in listdir(diretorio):\n",
    "        # path\n",
    "        path = diretorio + subdir + '/'\n",
    "\n",
    "        if not isdir(path):\n",
    "            continue\n",
    "        imagens, labels = load_classes(path, subdir, imagens, labels)\n",
    "\n",
    "    return imagens, labels"
   ]
  },
  {
   "cell_type": "markdown",
   "metadata": {},
   "source": [
    "### Carregando dataset Covid-19"
   ]
  },
  {
   "cell_type": "code",
   "execution_count": 101,
   "metadata": {},
   "outputs": [
    {
     "data": {
      "text/plain": [
       "array(['normal', 'normal', 'normal', 'normal', 'normal', 'normal',\n",
       "       'normal', 'normal', 'normal', 'normal', 'normal', 'normal',\n",
       "       'normal', 'normal', 'normal', 'normal', 'normal', 'normal',\n",
       "       'normal', 'normal', 'normal', 'normal', 'normal', 'normal',\n",
       "       'normal', 'normal', 'normal', 'normal', 'normal', 'normal',\n",
       "       'normal', 'normal', 'normal', 'normal', 'normal', 'normal',\n",
       "       'normal', 'normal', 'normal', 'normal', 'normal', 'normal',\n",
       "       'normal', 'normal', 'normal', 'normal', 'normal', 'normal',\n",
       "       'normal', 'normal', 'normal', 'normal', 'normal', 'normal',\n",
       "       'normal', 'normal', 'normal', 'normal', 'normal', 'normal',\n",
       "       'normal', 'normal', 'normal', 'normal', 'covid-19', 'covid-19',\n",
       "       'covid-19', 'covid-19', 'covid-19', 'covid-19', 'covid-19',\n",
       "       'covid-19', 'covid-19', 'covid-19', 'covid-19', 'covid-19',\n",
       "       'covid-19', 'covid-19', 'covid-19', 'covid-19', 'covid-19',\n",
       "       'covid-19', 'covid-19', 'covid-19', 'covid-19', 'covid-19',\n",
       "       'covid-19', 'covid-19', 'covid-19', 'covid-19', 'covid-19',\n",
       "       'covid-19', 'covid-19', 'covid-19', 'covid-19', 'covid-19',\n",
       "       'covid-19', 'covid-19', 'covid-19', 'covid-19', 'covid-19',\n",
       "       'covid-19', 'covid-19', 'covid-19', 'covid-19', 'covid-19',\n",
       "       'covid-19', 'covid-19', 'covid-19', 'covid-19', 'covid-19',\n",
       "       'covid-19', 'covid-19', 'covid-19', 'covid-19', 'covid-19',\n",
       "       'covid-19', 'covid-19', 'covid-19', 'covid-19', 'covid-19',\n",
       "       'covid-19', 'covid-19', 'covid-19', 'covid-19', 'covid-19',\n",
       "       'covid-19', 'covid-19', 'pneumonia', 'pneumonia', 'pneumonia',\n",
       "       'pneumonia', 'pneumonia', 'pneumonia', 'pneumonia', 'pneumonia',\n",
       "       'pneumonia', 'pneumonia', 'pneumonia', 'pneumonia', 'pneumonia',\n",
       "       'pneumonia', 'pneumonia', 'pneumonia', 'pneumonia', 'pneumonia',\n",
       "       'pneumonia', 'pneumonia', 'pneumonia', 'pneumonia', 'pneumonia',\n",
       "       'pneumonia', 'pneumonia', 'pneumonia', 'pneumonia', 'pneumonia',\n",
       "       'pneumonia', 'pneumonia', 'pneumonia', 'pneumonia', 'pneumonia',\n",
       "       'pneumonia', 'pneumonia', 'pneumonia', 'pneumonia', 'pneumonia',\n",
       "       'pneumonia', 'pneumonia', 'pneumonia', 'pneumonia', 'pneumonia',\n",
       "       'pneumonia', 'pneumonia', 'pneumonia', 'pneumonia', 'pneumonia',\n",
       "       'pneumonia', 'pneumonia', 'pneumonia', 'pneumonia', 'pneumonia',\n",
       "       'pneumonia', 'pneumonia', 'pneumonia', 'pneumonia', 'pneumonia',\n",
       "       'pneumonia', 'pneumonia', 'pneumonia', 'pneumonia', 'pneumonia',\n",
       "       'pneumonia'], dtype='<U9')"
      ]
     },
     "execution_count": 101,
     "metadata": {},
     "output_type": "execute_result"
    }
   ],
   "source": [
    "covid_dataset = \"/home/labcfd/Desktop/github/covid19XRayClassification/dataset/\"\n",
    "imagens, labels  = select_data_set(covid_dataset)\n",
    "imagens = np.array(imagens) / 255.0  ## convertendo de lista para array\n",
    "labels = np.array(labels)  ## convertendo de lista para array\n",
    "labels"
   ]
  },
  {
   "cell_type": "markdown",
   "metadata": {},
   "source": [
    "### Tratando classes - Labels"
   ]
  },
  {
   "cell_type": "code",
   "execution_count": 102,
   "metadata": {},
   "outputs": [],
   "source": [
    "# lb = LabelBinarizer()\n",
    "# labels = lb.fit_transform(labels)\n",
    "# labels = to_categorical(labels)"
   ]
  },
  {
   "cell_type": "code",
   "execution_count": 103,
   "metadata": {},
   "outputs": [
    {
     "data": {
      "text/plain": [
       "array([[0., 1., 0.],\n",
       "       [0., 1., 0.],\n",
       "       [0., 1., 0.],\n",
       "       [0., 1., 0.],\n",
       "       [0., 1., 0.],\n",
       "       [0., 1., 0.],\n",
       "       [0., 1., 0.],\n",
       "       [0., 1., 0.],\n",
       "       [0., 1., 0.],\n",
       "       [0., 1., 0.],\n",
       "       [0., 1., 0.],\n",
       "       [0., 1., 0.],\n",
       "       [0., 1., 0.],\n",
       "       [0., 1., 0.],\n",
       "       [0., 1., 0.],\n",
       "       [0., 1., 0.],\n",
       "       [0., 1., 0.],\n",
       "       [0., 1., 0.],\n",
       "       [0., 1., 0.],\n",
       "       [0., 1., 0.],\n",
       "       [0., 1., 0.],\n",
       "       [0., 1., 0.],\n",
       "       [0., 1., 0.],\n",
       "       [0., 1., 0.],\n",
       "       [0., 1., 0.],\n",
       "       [0., 1., 0.],\n",
       "       [0., 1., 0.],\n",
       "       [0., 1., 0.],\n",
       "       [0., 1., 0.],\n",
       "       [0., 1., 0.],\n",
       "       [0., 1., 0.],\n",
       "       [0., 1., 0.],\n",
       "       [0., 1., 0.],\n",
       "       [0., 1., 0.],\n",
       "       [0., 1., 0.],\n",
       "       [0., 1., 0.],\n",
       "       [0., 1., 0.],\n",
       "       [0., 1., 0.],\n",
       "       [0., 1., 0.],\n",
       "       [0., 1., 0.],\n",
       "       [0., 1., 0.],\n",
       "       [0., 1., 0.],\n",
       "       [0., 1., 0.],\n",
       "       [0., 1., 0.],\n",
       "       [0., 1., 0.],\n",
       "       [0., 1., 0.],\n",
       "       [0., 1., 0.],\n",
       "       [0., 1., 0.],\n",
       "       [0., 1., 0.],\n",
       "       [0., 1., 0.],\n",
       "       [0., 1., 0.],\n",
       "       [0., 1., 0.],\n",
       "       [0., 1., 0.],\n",
       "       [0., 1., 0.],\n",
       "       [0., 1., 0.],\n",
       "       [0., 1., 0.],\n",
       "       [0., 1., 0.],\n",
       "       [0., 1., 0.],\n",
       "       [0., 1., 0.],\n",
       "       [0., 1., 0.],\n",
       "       [0., 1., 0.],\n",
       "       [0., 1., 0.],\n",
       "       [0., 1., 0.],\n",
       "       [0., 1., 0.],\n",
       "       [1., 0., 0.],\n",
       "       [1., 0., 0.],\n",
       "       [1., 0., 0.],\n",
       "       [1., 0., 0.],\n",
       "       [1., 0., 0.],\n",
       "       [1., 0., 0.],\n",
       "       [1., 0., 0.],\n",
       "       [1., 0., 0.],\n",
       "       [1., 0., 0.],\n",
       "       [1., 0., 0.],\n",
       "       [1., 0., 0.],\n",
       "       [1., 0., 0.],\n",
       "       [1., 0., 0.],\n",
       "       [1., 0., 0.],\n",
       "       [1., 0., 0.],\n",
       "       [1., 0., 0.],\n",
       "       [1., 0., 0.],\n",
       "       [1., 0., 0.],\n",
       "       [1., 0., 0.],\n",
       "       [1., 0., 0.],\n",
       "       [1., 0., 0.],\n",
       "       [1., 0., 0.],\n",
       "       [1., 0., 0.],\n",
       "       [1., 0., 0.],\n",
       "       [1., 0., 0.],\n",
       "       [1., 0., 0.],\n",
       "       [1., 0., 0.],\n",
       "       [1., 0., 0.],\n",
       "       [1., 0., 0.],\n",
       "       [1., 0., 0.],\n",
       "       [1., 0., 0.],\n",
       "       [1., 0., 0.],\n",
       "       [1., 0., 0.],\n",
       "       [1., 0., 0.],\n",
       "       [1., 0., 0.],\n",
       "       [1., 0., 0.],\n",
       "       [1., 0., 0.],\n",
       "       [1., 0., 0.],\n",
       "       [1., 0., 0.],\n",
       "       [1., 0., 0.],\n",
       "       [1., 0., 0.],\n",
       "       [1., 0., 0.],\n",
       "       [1., 0., 0.],\n",
       "       [1., 0., 0.],\n",
       "       [1., 0., 0.],\n",
       "       [1., 0., 0.],\n",
       "       [1., 0., 0.],\n",
       "       [1., 0., 0.],\n",
       "       [1., 0., 0.],\n",
       "       [1., 0., 0.],\n",
       "       [1., 0., 0.],\n",
       "       [1., 0., 0.],\n",
       "       [1., 0., 0.],\n",
       "       [1., 0., 0.],\n",
       "       [1., 0., 0.],\n",
       "       [1., 0., 0.],\n",
       "       [1., 0., 0.],\n",
       "       [1., 0., 0.],\n",
       "       [1., 0., 0.],\n",
       "       [1., 0., 0.],\n",
       "       [1., 0., 0.],\n",
       "       [1., 0., 0.],\n",
       "       [1., 0., 0.],\n",
       "       [1., 0., 0.],\n",
       "       [0., 0., 1.],\n",
       "       [0., 0., 1.],\n",
       "       [0., 0., 1.],\n",
       "       [0., 0., 1.],\n",
       "       [0., 0., 1.],\n",
       "       [0., 0., 1.],\n",
       "       [0., 0., 1.],\n",
       "       [0., 0., 1.],\n",
       "       [0., 0., 1.],\n",
       "       [0., 0., 1.],\n",
       "       [0., 0., 1.],\n",
       "       [0., 0., 1.],\n",
       "       [0., 0., 1.],\n",
       "       [0., 0., 1.],\n",
       "       [0., 0., 1.],\n",
       "       [0., 0., 1.],\n",
       "       [0., 0., 1.],\n",
       "       [0., 0., 1.],\n",
       "       [0., 0., 1.],\n",
       "       [0., 0., 1.],\n",
       "       [0., 0., 1.],\n",
       "       [0., 0., 1.],\n",
       "       [0., 0., 1.],\n",
       "       [0., 0., 1.],\n",
       "       [0., 0., 1.],\n",
       "       [0., 0., 1.],\n",
       "       [0., 0., 1.],\n",
       "       [0., 0., 1.],\n",
       "       [0., 0., 1.],\n",
       "       [0., 0., 1.],\n",
       "       [0., 0., 1.],\n",
       "       [0., 0., 1.],\n",
       "       [0., 0., 1.],\n",
       "       [0., 0., 1.],\n",
       "       [0., 0., 1.],\n",
       "       [0., 0., 1.],\n",
       "       [0., 0., 1.],\n",
       "       [0., 0., 1.],\n",
       "       [0., 0., 1.],\n",
       "       [0., 0., 1.],\n",
       "       [0., 0., 1.],\n",
       "       [0., 0., 1.],\n",
       "       [0., 0., 1.],\n",
       "       [0., 0., 1.],\n",
       "       [0., 0., 1.],\n",
       "       [0., 0., 1.],\n",
       "       [0., 0., 1.],\n",
       "       [0., 0., 1.],\n",
       "       [0., 0., 1.],\n",
       "       [0., 0., 1.],\n",
       "       [0., 0., 1.],\n",
       "       [0., 0., 1.],\n",
       "       [0., 0., 1.],\n",
       "       [0., 0., 1.],\n",
       "       [0., 0., 1.],\n",
       "       [0., 0., 1.],\n",
       "       [0., 0., 1.],\n",
       "       [0., 0., 1.],\n",
       "       [0., 0., 1.],\n",
       "       [0., 0., 1.],\n",
       "       [0., 0., 1.],\n",
       "       [0., 0., 1.],\n",
       "       [0., 0., 1.],\n",
       "       [0., 0., 1.]], dtype=float32)"
      ]
     },
     "execution_count": 103,
     "metadata": {},
     "output_type": "execute_result"
    }
   ],
   "source": [
    "encoder = LabelEncoder()\n",
    "labels = encoder.fit_transform(labels)\n",
    "labels = to_categorical(labels)\n",
    "labels"
   ]
  },
  {
   "cell_type": "markdown",
   "metadata": {},
   "source": [
    "### Definindo hyperparametros"
   ]
  },
  {
   "cell_type": "code",
   "execution_count": 104,
   "metadata": {},
   "outputs": [],
   "source": [
    "batch_size   = 32\n",
    "input_shape  = (150, 150, 3)\n",
    "random_state = 42\n",
    "alpha        = 1e-5\n",
    "epoch        = 100"
   ]
  },
  {
   "cell_type": "markdown",
   "metadata": {},
   "source": [
    "## CALLBACKS\n",
    "\n",
    "Callback são classes que auxiliam o treinamento do modelo usando o Keras. As classes que usaremos são:\n",
    "\n",
    "- ModelCheckpoint\n",
    "- ReduceLROnPlateau\n",
    "- EarlyStopping"
   ]
  },
  {
   "cell_type": "code",
   "execution_count": 105,
   "metadata": {},
   "outputs": [],
   "source": [
    "from tensorflow.keras.callbacks import ModelCheckpoint, ReduceLROnPlateau"
   ]
  },
  {
   "cell_type": "markdown",
   "metadata": {},
   "source": [
    "#### ModelCheckpoint\n",
    "\n",
    "ModelCheckpoint nos ajudará a salvar o modelo para cada época, para que possamos treinar nosso modelo e não nos preocuparmos com possíveis problemas que possam acontecer, como travamento da máquina.\n",
    "\n",
    "- **filepath**: onde será salvo o modelo\n",
    "- **monitor**: métrica a ser monitorada\n",
    "- **verbose**: (1) mostra na barra de progresso (0) não\n",
    "- **save_best_only**: Salvar somente o melhor modelo\n",
    "- **mode**: como vamos monitorar o 'val_acc' o valor aqui vai ser 'max'. Queremos a máxima acurácia.\n"
   ]
  },
  {
   "cell_type": "code",
   "execution_count": 106,
   "metadata": {},
   "outputs": [],
   "source": [
    "filepath=\"transferlearning_weights.hdf5\"\n",
    "checkpoint = ModelCheckpoint(filepath, monitor='val_acc', verbose=1, save_best_only=True, mode='max')"
   ]
  },
  {
   "cell_type": "markdown",
   "metadata": {},
   "source": [
    "#### ReduceLROnPlateau\n",
    "\n",
    "Nos auxiliara a reduzir a taxa de aprendizado pelo fator (factor) caso não ocorra a mudança no loss.\n",
    "\n",
    "- **monitor**: métrica a ser monitorada\n",
    "- **factor**: fator de redução caso estejamos em um plator\n",
    "- **min_delta**: valor mínimo da perda\n",
    "- **patience**: só altere pelo fator após se repitir por 'patience' vezes.\n",
    "- **verbose**: (1) mostra na barra de progresso (0) não\n"
   ]
  },
  {
   "cell_type": "code",
   "execution_count": 107,
   "metadata": {},
   "outputs": [],
   "source": [
    "lr_reduce = ReduceLROnPlateau(monitor='val_acc', factor=0.1, min_delta=alpha, patience=5, verbose=1)"
   ]
  },
  {
   "cell_type": "markdown",
   "metadata": {},
   "source": [
    "### Array de Callbacks"
   ]
  },
  {
   "cell_type": "code",
   "execution_count": 108,
   "metadata": {},
   "outputs": [],
   "source": [
    "callbacks = [checkpoint, lr_reduce]"
   ]
  },
  {
   "cell_type": "markdown",
   "metadata": {},
   "source": [
    "### Particionando dataset em teste e treino"
   ]
  },
  {
   "cell_type": "code",
   "execution_count": 109,
   "metadata": {},
   "outputs": [],
   "source": [
    "(trainX, testX, trainY, testY) = train_test_split(imagens, labels, test_size=0.20, stratify=labels, random_state=random_state)"
   ]
  },
  {
   "cell_type": "markdown",
   "metadata": {},
   "source": [
    "## DATA AUGMENTATION"
   ]
  },
  {
   "cell_type": "code",
   "execution_count": 110,
   "metadata": {},
   "outputs": [],
   "source": [
    "train_datagen = ImageDataGenerator(\n",
    "        rotation_range=20,\n",
    "        zoom_range=0.2)\n",
    "\n",
    "train_datagen.fit(trainX)\n",
    "\n",
    "data_aug = train_datagen.flow(trainX, trainY, batch_size=batch_size)"
   ]
  },
  {
   "cell_type": "markdown",
   "metadata": {},
   "source": [
    "## TRANSFER LEARNING"
   ]
  },
  {
   "cell_type": "code",
   "execution_count": 111,
   "metadata": {},
   "outputs": [],
   "source": [
    "conv_base = VGG19(weights='imagenet', include_top=False, input_shape=input_shape)"
   ]
  },
  {
   "cell_type": "code",
   "execution_count": 112,
   "metadata": {},
   "outputs": [
    {
     "name": "stdout",
     "output_type": "stream",
     "text": [
      "Model: \"vgg19\"\n",
      "_________________________________________________________________\n",
      "Layer (type)                 Output Shape              Param #   \n",
      "=================================================================\n",
      "input_1 (InputLayer)         [(None, 150, 150, 3)]     0         \n",
      "_________________________________________________________________\n",
      "block1_conv1 (Conv2D)        (None, 150, 150, 64)      1792      \n",
      "_________________________________________________________________\n",
      "block1_conv2 (Conv2D)        (None, 150, 150, 64)      36928     \n",
      "_________________________________________________________________\n",
      "block1_pool (MaxPooling2D)   (None, 75, 75, 64)        0         \n",
      "_________________________________________________________________\n",
      "block2_conv1 (Conv2D)        (None, 75, 75, 128)       73856     \n",
      "_________________________________________________________________\n",
      "block2_conv2 (Conv2D)        (None, 75, 75, 128)       147584    \n",
      "_________________________________________________________________\n",
      "block2_pool (MaxPooling2D)   (None, 37, 37, 128)       0         \n",
      "_________________________________________________________________\n",
      "block3_conv1 (Conv2D)        (None, 37, 37, 256)       295168    \n",
      "_________________________________________________________________\n",
      "block3_conv2 (Conv2D)        (None, 37, 37, 256)       590080    \n",
      "_________________________________________________________________\n",
      "block3_conv3 (Conv2D)        (None, 37, 37, 256)       590080    \n",
      "_________________________________________________________________\n",
      "block3_conv4 (Conv2D)        (None, 37, 37, 256)       590080    \n",
      "_________________________________________________________________\n",
      "block3_pool (MaxPooling2D)   (None, 18, 18, 256)       0         \n",
      "_________________________________________________________________\n",
      "block4_conv1 (Conv2D)        (None, 18, 18, 512)       1180160   \n",
      "_________________________________________________________________\n",
      "block4_conv2 (Conv2D)        (None, 18, 18, 512)       2359808   \n",
      "_________________________________________________________________\n",
      "block4_conv3 (Conv2D)        (None, 18, 18, 512)       2359808   \n",
      "_________________________________________________________________\n",
      "block4_conv4 (Conv2D)        (None, 18, 18, 512)       2359808   \n",
      "_________________________________________________________________\n",
      "block4_pool (MaxPooling2D)   (None, 9, 9, 512)         0         \n",
      "_________________________________________________________________\n",
      "block5_conv1 (Conv2D)        (None, 9, 9, 512)         2359808   \n",
      "_________________________________________________________________\n",
      "block5_conv2 (Conv2D)        (None, 9, 9, 512)         2359808   \n",
      "_________________________________________________________________\n",
      "block5_conv3 (Conv2D)        (None, 9, 9, 512)         2359808   \n",
      "_________________________________________________________________\n",
      "block5_conv4 (Conv2D)        (None, 9, 9, 512)         2359808   \n",
      "_________________________________________________________________\n",
      "block5_pool (MaxPooling2D)   (None, 4, 4, 512)         0         \n",
      "=================================================================\n",
      "Total params: 20,024,384\n",
      "Trainable params: 20,024,384\n",
      "Non-trainable params: 0\n",
      "_________________________________________________________________\n"
     ]
    }
   ],
   "source": [
    "conv_base.summary()"
   ]
  },
  {
   "cell_type": "markdown",
   "metadata": {},
   "source": [
    "### Retreinando parte da VGG19\n",
    "\n",
    "\n",
    "explicar aqui"
   ]
  },
  {
   "cell_type": "code",
   "execution_count": 113,
   "metadata": {},
   "outputs": [],
   "source": [
    "conv_base.trainable = True\n",
    "set_trainable = False\n",
    "\n",
    "for layer in conv_base.layers:\n",
    "  if layer.name == 'block5_conv1':\n",
    "    set_trainable = True\n",
    "  if set_trainable:\n",
    "    layer.trainable = True\n",
    "  else:\n",
    "    layer.trainable = False"
   ]
  },
  {
   "cell_type": "code",
   "execution_count": 114,
   "metadata": {},
   "outputs": [
    {
     "name": "stdout",
     "output_type": "stream",
     "text": [
      "Model: \"vgg19\"\n",
      "_________________________________________________________________\n",
      "Layer (type)                 Output Shape              Param #   \n",
      "=================================================================\n",
      "input_1 (InputLayer)         [(None, 150, 150, 3)]     0         \n",
      "_________________________________________________________________\n",
      "block1_conv1 (Conv2D)        (None, 150, 150, 64)      1792      \n",
      "_________________________________________________________________\n",
      "block1_conv2 (Conv2D)        (None, 150, 150, 64)      36928     \n",
      "_________________________________________________________________\n",
      "block1_pool (MaxPooling2D)   (None, 75, 75, 64)        0         \n",
      "_________________________________________________________________\n",
      "block2_conv1 (Conv2D)        (None, 75, 75, 128)       73856     \n",
      "_________________________________________________________________\n",
      "block2_conv2 (Conv2D)        (None, 75, 75, 128)       147584    \n",
      "_________________________________________________________________\n",
      "block2_pool (MaxPooling2D)   (None, 37, 37, 128)       0         \n",
      "_________________________________________________________________\n",
      "block3_conv1 (Conv2D)        (None, 37, 37, 256)       295168    \n",
      "_________________________________________________________________\n",
      "block3_conv2 (Conv2D)        (None, 37, 37, 256)       590080    \n",
      "_________________________________________________________________\n",
      "block3_conv3 (Conv2D)        (None, 37, 37, 256)       590080    \n",
      "_________________________________________________________________\n",
      "block3_conv4 (Conv2D)        (None, 37, 37, 256)       590080    \n",
      "_________________________________________________________________\n",
      "block3_pool (MaxPooling2D)   (None, 18, 18, 256)       0         \n",
      "_________________________________________________________________\n",
      "block4_conv1 (Conv2D)        (None, 18, 18, 512)       1180160   \n",
      "_________________________________________________________________\n",
      "block4_conv2 (Conv2D)        (None, 18, 18, 512)       2359808   \n",
      "_________________________________________________________________\n",
      "block4_conv3 (Conv2D)        (None, 18, 18, 512)       2359808   \n",
      "_________________________________________________________________\n",
      "block4_conv4 (Conv2D)        (None, 18, 18, 512)       2359808   \n",
      "_________________________________________________________________\n",
      "block4_pool (MaxPooling2D)   (None, 9, 9, 512)         0         \n",
      "_________________________________________________________________\n",
      "block5_conv1 (Conv2D)        (None, 9, 9, 512)         2359808   \n",
      "_________________________________________________________________\n",
      "block5_conv2 (Conv2D)        (None, 9, 9, 512)         2359808   \n",
      "_________________________________________________________________\n",
      "block5_conv3 (Conv2D)        (None, 9, 9, 512)         2359808   \n",
      "_________________________________________________________________\n",
      "block5_conv4 (Conv2D)        (None, 9, 9, 512)         2359808   \n",
      "_________________________________________________________________\n",
      "block5_pool (MaxPooling2D)   (None, 4, 4, 512)         0         \n",
      "=================================================================\n",
      "Total params: 20,024,384\n",
      "Trainable params: 9,439,232\n",
      "Non-trainable params: 10,585,152\n",
      "_________________________________________________________________\n"
     ]
    }
   ],
   "source": [
    "conv_base.summary()"
   ]
  },
  {
   "cell_type": "markdown",
   "metadata": {},
   "source": [
    "## CRIANDO O MODELO COM A VGG19 COMO BASE"
   ]
  },
  {
   "cell_type": "code",
   "execution_count": 115,
   "metadata": {},
   "outputs": [
    {
     "name": "stderr",
     "output_type": "stream",
     "text": [
      "WARNING: Logging before flag parsing goes to stderr.\n",
      "W0329 19:24:40.977962 140320653379392 nn_ops.py:4372] Large dropout rate: 0.6 (>0.5). In TensorFlow 2.x, dropout() uses dropout rate instead of keep_prob. Please ensure that this is intended.\n"
     ]
    }
   ],
   "source": [
    "model = models.Sequential()\n",
    "model.add(conv_base)\n",
    "model.add(layers.GlobalAveragePooling2D())\n",
    "model.add(layers.BatchNormalization())\n",
    "model.add(layers.Flatten())\n",
    "model.add(layers.Dense(128, activation='relu'))\n",
    "model.add(layers.Dropout(0.6))\n",
    "model.add(layers.Dense(3, activation='softmax'))"
   ]
  },
  {
   "cell_type": "code",
   "execution_count": 116,
   "metadata": {},
   "outputs": [
    {
     "name": "stdout",
     "output_type": "stream",
     "text": [
      "Model: \"sequential\"\n",
      "_________________________________________________________________\n",
      "Layer (type)                 Output Shape              Param #   \n",
      "=================================================================\n",
      "vgg19 (Model)                (None, 4, 4, 512)         20024384  \n",
      "_________________________________________________________________\n",
      "global_average_pooling2d (Gl (None, 512)               0         \n",
      "_________________________________________________________________\n",
      "batch_normalization (BatchNo (None, 512)               2048      \n",
      "_________________________________________________________________\n",
      "flatten (Flatten)            (None, 512)               0         \n",
      "_________________________________________________________________\n",
      "dense (Dense)                (None, 128)               65664     \n",
      "_________________________________________________________________\n",
      "dropout (Dropout)            (None, 128)               0         \n",
      "_________________________________________________________________\n",
      "dense_1 (Dense)              (None, 3)                 387       \n",
      "=================================================================\n",
      "Total params: 20,092,483\n",
      "Trainable params: 9,506,307\n",
      "Non-trainable params: 10,586,176\n",
      "_________________________________________________________________\n"
     ]
    }
   ],
   "source": [
    "model.summary()"
   ]
  },
  {
   "cell_type": "markdown",
   "metadata": {},
   "source": [
    "## COMPILANDO O MODELO"
   ]
  },
  {
   "cell_type": "code",
   "execution_count": 117,
   "metadata": {},
   "outputs": [],
   "source": [
    "model.compile(loss='binary_crossentropy',\n",
    "                  optimizer='adam',\n",
    "                  metrics=['acc'])"
   ]
  },
  {
   "cell_type": "markdown",
   "metadata": {},
   "source": [
    "## TREINANDO O MODELO\n",
    "\n",
    "***Obs: não treinar na hora da live***"
   ]
  },
  {
   "cell_type": "code",
   "execution_count": 118,
   "metadata": {},
   "outputs": [
    {
     "name": "stderr",
     "output_type": "stream",
     "text": [
      "W0329 19:25:01.413692 140320653379392 deprecation.py:323] From <ipython-input-118-157b40edf3b9>:7: Model.fit_generator (from tensorflow.python.keras.engine.training) is deprecated and will be removed in a future version.\n",
      "Instructions for updating:\n",
      "Please use Model.fit, which supports generators.\n",
      "W0329 19:25:02.053513 140320653379392 data_adapter.py:1091] sample_weight modes were coerced from\n",
      "  ...\n",
      "    to  \n",
      "  ['...']\n",
      "W0329 19:25:02.446273 140320653379392 nn_ops.py:4372] Large dropout rate: 0.6 (>0.5). In TensorFlow 2.x, dropout() uses dropout rate instead of keep_prob. Please ensure that this is intended.\n"
     ]
    },
    {
     "name": "stdout",
     "output_type": "stream",
     "text": [
      "Train for 4 steps, validate on 39 samples\n",
      "Epoch 1/100\n"
     ]
    },
    {
     "name": "stderr",
     "output_type": "stream",
     "text": [
      "W0329 19:25:02.704678 140320653379392 nn_ops.py:4372] Large dropout rate: 0.6 (>0.5). In TensorFlow 2.x, dropout() uses dropout rate instead of keep_prob. Please ensure that this is intended.\n"
     ]
    },
    {
     "name": "stdout",
     "output_type": "stream",
     "text": [
      "3/4 [=====================>........] - ETA: 2s - loss: 0.5946 - acc: 0.6966\n",
      "Epoch 00001: val_acc improved from -inf to 0.56250, saving model to transferlearning_weights.hdf5\n",
      "4/4 [==============================] - 15s 4s/step - loss: 0.5871 - acc: 0.7107 - val_loss: 4.3225 - val_acc: 0.5625\n",
      "Epoch 2/100\n",
      "3/4 [=====================>........] - ETA: 3s - loss: 0.3805 - acc: 0.8438\n",
      "Epoch 00002: val_acc did not improve from 0.56250\n",
      "4/4 [==============================] - 19s 5s/step - loss: 0.3890 - acc: 0.8490 - val_loss: 5.3170 - val_acc: 0.5625\n",
      "Epoch 3/100\n",
      "3/4 [=====================>........] - ETA: 3s - loss: 0.3684 - acc: 0.8502\n",
      "Epoch 00003: val_acc did not improve from 0.56250\n",
      "4/4 [==============================] - 18s 4s/step - loss: 0.3301 - acc: 0.8733 - val_loss: 5.4125 - val_acc: 0.5625\n",
      "Epoch 4/100\n",
      "3/4 [=====================>........] - ETA: 3s - loss: 0.2053 - acc: 0.9326\n",
      "Epoch 00004: val_acc did not improve from 0.56250\n",
      "4/4 [==============================] - 17s 4s/step - loss: 0.2232 - acc: 0.9146 - val_loss: 5.5056 - val_acc: 0.5625\n",
      "Epoch 5/100\n",
      "3/4 [=====================>........] - ETA: 3s - loss: 0.1874 - acc: 0.9401\n",
      "Epoch 00005: val_acc did not improve from 0.56250\n",
      "4/4 [==============================] - 17s 4s/step - loss: 0.1776 - acc: 0.9449 - val_loss: 5.5056 - val_acc: 0.5625\n",
      "Epoch 6/100\n",
      "3/4 [=====================>........] - ETA: 3s - loss: 0.1385 - acc: 0.9700\n",
      "Epoch 00006: val_acc did not improve from 0.56250\n",
      "\n",
      "Epoch 00006: ReduceLROnPlateau reducing learning rate to 0.00010000000474974513.\n",
      "4/4 [==============================] - 18s 4s/step - loss: 0.1284 - acc: 0.9669 - val_loss: 5.3739 - val_acc: 0.5625\n",
      "Epoch 7/100\n",
      "3/4 [=====================>........] - ETA: 3s - loss: 0.0984 - acc: 0.9588\n",
      "Epoch 00007: val_acc did not improve from 0.56250\n",
      "4/4 [==============================] - 18s 4s/step - loss: 0.1004 - acc: 0.9559 - val_loss: 5.0625 - val_acc: 0.5625\n",
      "Epoch 8/100\n",
      "3/4 [=====================>........] - ETA: 3s - loss: 0.0859 - acc: 0.9688\n",
      "Epoch 00008: val_acc did not improve from 0.56250\n",
      "4/4 [==============================] - 17s 4s/step - loss: 0.0760 - acc: 0.9752 - val_loss: 5.0356 - val_acc: 0.5625\n",
      "Epoch 9/100\n",
      "3/4 [=====================>........] - ETA: 3s - loss: 0.0849 - acc: 0.9738\n",
      "Epoch 00009: val_acc did not improve from 0.56250\n",
      "4/4 [==============================] - 18s 4s/step - loss: 0.0994 - acc: 0.9642 - val_loss: 4.9613 - val_acc: 0.5625\n",
      "Epoch 10/100\n",
      "3/4 [=====================>........] - ETA: 3s - loss: 0.0672 - acc: 0.9861\n",
      "Epoch 00010: val_acc did not improve from 0.56250\n",
      "4/4 [==============================] - 18s 4s/step - loss: 0.0564 - acc: 0.9890 - val_loss: 4.7112 - val_acc: 0.5625\n",
      "Epoch 11/100\n",
      "3/4 [=====================>........] - ETA: 3s - loss: 0.1177 - acc: 0.9618\n",
      "Epoch 00011: val_acc did not improve from 0.56250\n",
      "\n",
      "Epoch 00011: ReduceLROnPlateau reducing learning rate to 1.0000000474974514e-05.\n",
      "4/4 [==============================] - 18s 4s/step - loss: 0.0976 - acc: 0.9697 - val_loss: 4.4640 - val_acc: 0.5625\n",
      "Epoch 12/100\n",
      "3/4 [=====================>........] - ETA: 3s - loss: 0.0697 - acc: 0.9826\n",
      "Epoch 00012: val_acc did not improve from 0.56250\n",
      "4/4 [==============================] - 18s 4s/step - loss: 0.0600 - acc: 0.9862 - val_loss: 4.2626 - val_acc: 0.5625\n",
      "Epoch 13/100\n",
      "3/4 [=====================>........] - ETA: 3s - loss: 0.0494 - acc: 0.9925\n",
      "Epoch 00013: val_acc did not improve from 0.56250\n",
      "4/4 [==============================] - 17s 4s/step - loss: 0.0513 - acc: 0.9890 - val_loss: 4.0544 - val_acc: 0.5625\n",
      "Epoch 14/100\n",
      "3/4 [=====================>........] - ETA: 3s - loss: 0.0394 - acc: 0.9925\n",
      "Epoch 00014: val_acc did not improve from 0.56250\n",
      "4/4 [==============================] - 18s 4s/step - loss: 0.0469 - acc: 0.9835 - val_loss: 3.8368 - val_acc: 0.5625\n",
      "Epoch 15/100\n",
      "3/4 [=====================>........] - ETA: 3s - loss: 0.0816 - acc: 0.9700\n",
      "Epoch 00015: val_acc did not improve from 0.56250\n",
      "4/4 [==============================] - 19s 5s/step - loss: 0.0692 - acc: 0.9780 - val_loss: 3.6031 - val_acc: 0.5625\n",
      "Epoch 16/100\n",
      "3/4 [=====================>........] - ETA: 3s - loss: 0.0732 - acc: 0.9861\n",
      "Epoch 00016: val_acc did not improve from 0.56250\n",
      "\n",
      "Epoch 00016: ReduceLROnPlateau reducing learning rate to 1.0000000656873453e-06.\n",
      "4/4 [==============================] - 19s 5s/step - loss: 0.0751 - acc: 0.9792 - val_loss: 3.3712 - val_acc: 0.5625\n",
      "Epoch 17/100\n",
      "3/4 [=====================>........] - ETA: 3s - loss: 0.0659 - acc: 0.9775\n",
      "Epoch 00017: val_acc did not improve from 0.56250\n",
      "4/4 [==============================] - 18s 5s/step - loss: 0.0680 - acc: 0.9780 - val_loss: 3.1509 - val_acc: 0.5625\n",
      "Epoch 18/100\n",
      "3/4 [=====================>........] - ETA: 3s - loss: 0.0694 - acc: 0.9775\n",
      "Epoch 00018: val_acc did not improve from 0.56250\n",
      "4/4 [==============================] - 17s 4s/step - loss: 0.0694 - acc: 0.9780 - val_loss: 2.9425 - val_acc: 0.5625\n",
      "Epoch 19/100\n",
      "3/4 [=====================>........] - ETA: 3s - loss: 0.0427 - acc: 0.9850\n",
      "Epoch 00019: val_acc did not improve from 0.56250\n",
      "4/4 [==============================] - 17s 4s/step - loss: 0.0520 - acc: 0.9835 - val_loss: 2.7520 - val_acc: 0.5625\n",
      "Epoch 20/100\n",
      "3/4 [=====================>........] - ETA: 3s - loss: 0.0652 - acc: 0.9738\n",
      "Epoch 00020: val_acc did not improve from 0.56250\n",
      "4/4 [==============================] - 17s 4s/step - loss: 0.0569 - acc: 0.9807 - val_loss: 2.5609 - val_acc: 0.5625\n",
      "Epoch 21/100\n",
      "3/4 [=====================>........] - ETA: 3s - loss: 0.0657 - acc: 0.9775\n",
      "Epoch 00021: val_acc did not improve from 0.56250\n",
      "\n",
      "Epoch 00021: ReduceLROnPlateau reducing learning rate to 1.0000001111620805e-07.\n",
      "4/4 [==============================] - 17s 4s/step - loss: 0.0825 - acc: 0.9725 - val_loss: 2.3962 - val_acc: 0.5625\n",
      "Epoch 22/100\n",
      "3/4 [=====================>........] - ETA: 3s - loss: 0.0761 - acc: 0.9738\n",
      "Epoch 00022: val_acc improved from 0.56250 to 0.60417, saving model to transferlearning_weights.hdf5\n",
      "4/4 [==============================] - 17s 4s/step - loss: 0.0717 - acc: 0.9725 - val_loss: 2.2392 - val_acc: 0.6042\n",
      "Epoch 23/100\n",
      "3/4 [=====================>........] - ETA: 3s - loss: 0.0856 - acc: 0.9653\n",
      "Epoch 00023: val_acc did not improve from 0.60417\n",
      "4/4 [==============================] - 17s 4s/step - loss: 0.0708 - acc: 0.9740 - val_loss: 2.0933 - val_acc: 0.6042\n",
      "Epoch 24/100\n",
      "3/4 [=====================>........] - ETA: 3s - loss: 0.0695 - acc: 0.9775\n",
      "Epoch 00024: val_acc improved from 0.60417 to 0.62500, saving model to transferlearning_weights.hdf5\n",
      "4/4 [==============================] - 17s 4s/step - loss: 0.0702 - acc: 0.9780 - val_loss: 1.9534 - val_acc: 0.6250\n",
      "Epoch 25/100\n",
      "3/4 [=====================>........] - ETA: 3s - loss: 0.0731 - acc: 0.9722\n",
      "Epoch 00025: val_acc did not improve from 0.62500\n",
      "4/4 [==============================] - 17s 4s/step - loss: 0.0743 - acc: 0.9740 - val_loss: 1.8131 - val_acc: 0.6250\n",
      "Epoch 26/100\n",
      "3/4 [=====================>........] - ETA: 3s - loss: 0.0665 - acc: 0.9722\n",
      "Epoch 00026: val_acc did not improve from 0.62500\n",
      "4/4 [==============================] - 17s 4s/step - loss: 0.0589 - acc: 0.9780 - val_loss: 1.6931 - val_acc: 0.6250\n",
      "Epoch 27/100\n",
      "3/4 [=====================>........] - ETA: 3s - loss: 0.0579 - acc: 0.9850\n",
      "Epoch 00027: val_acc did not improve from 0.62500\n",
      "4/4 [==============================] - 17s 4s/step - loss: 0.0725 - acc: 0.9752 - val_loss: 1.5904 - val_acc: 0.6250\n",
      "Epoch 28/100\n",
      "3/4 [=====================>........] - ETA: 3s - loss: 0.0481 - acc: 0.9850\n",
      "Epoch 00028: val_acc did not improve from 0.62500\n",
      "4/4 [==============================] - 17s 4s/step - loss: 0.0461 - acc: 0.9890 - val_loss: 1.4826 - val_acc: 0.6250\n",
      "Epoch 29/100\n",
      "3/4 [=====================>........] - ETA: 3s - loss: 0.0802 - acc: 0.9722\n",
      "Epoch 00029: val_acc improved from 0.62500 to 0.64583, saving model to transferlearning_weights.hdf5\n",
      "4/4 [==============================] - 18s 5s/step - loss: 0.0769 - acc: 0.9740 - val_loss: 1.3822 - val_acc: 0.6458\n",
      "Epoch 30/100\n",
      "3/4 [=====================>........] - ETA: 3s - loss: 0.0783 - acc: 0.9688\n",
      "Epoch 00030: val_acc did not improve from 0.64583\n",
      "4/4 [==============================] - 18s 4s/step - loss: 0.0831 - acc: 0.9661 - val_loss: 1.2869 - val_acc: 0.6458\n",
      "Epoch 31/100\n"
     ]
    },
    {
     "name": "stdout",
     "output_type": "stream",
     "text": [
      "3/4 [=====================>........] - ETA: 3s - loss: 0.0332 - acc: 1.0000\n",
      "Epoch 00031: val_acc improved from 0.64583 to 0.66667, saving model to transferlearning_weights.hdf5\n",
      "4/4 [==============================] - 17s 4s/step - loss: 0.0376 - acc: 0.9972 - val_loss: 1.2087 - val_acc: 0.6667\n",
      "Epoch 32/100\n",
      "3/4 [=====================>........] - ETA: 3s - loss: 0.0416 - acc: 0.9925\n",
      "Epoch 00032: val_acc improved from 0.66667 to 0.70833, saving model to transferlearning_weights.hdf5\n",
      "4/4 [==============================] - 17s 4s/step - loss: 0.0499 - acc: 0.9890 - val_loss: 1.1401 - val_acc: 0.7083\n",
      "Epoch 33/100\n",
      "3/4 [=====================>........] - ETA: 3s - loss: 0.0469 - acc: 0.9925\n",
      "Epoch 00033: val_acc did not improve from 0.70833\n",
      "4/4 [==============================] - 17s 4s/step - loss: 0.0569 - acc: 0.9890 - val_loss: 1.0752 - val_acc: 0.7083\n",
      "Epoch 34/100\n",
      "3/4 [=====================>........] - ETA: 3s - loss: 0.0533 - acc: 0.9850\n",
      "Epoch 00034: val_acc did not improve from 0.70833\n",
      "4/4 [==============================] - 17s 4s/step - loss: 0.0681 - acc: 0.9725 - val_loss: 1.0150 - val_acc: 0.7083\n",
      "Epoch 35/100\n",
      "3/4 [=====================>........] - ETA: 3s - loss: 0.0907 - acc: 0.9618\n",
      "Epoch 00035: val_acc did not improve from 0.70833\n",
      "4/4 [==============================] - 17s 4s/step - loss: 0.0727 - acc: 0.9697 - val_loss: 0.9610 - val_acc: 0.7083\n",
      "Epoch 36/100\n",
      "3/4 [=====================>........] - ETA: 3s - loss: 0.0519 - acc: 0.9813\n",
      "Epoch 00036: val_acc did not improve from 0.70833\n",
      "4/4 [==============================] - 17s 4s/step - loss: 0.0625 - acc: 0.9752 - val_loss: 0.9126 - val_acc: 0.7083\n",
      "Epoch 37/100\n",
      "3/4 [=====================>........] - ETA: 3s - loss: 0.0670 - acc: 0.9775\n",
      "Epoch 00037: val_acc improved from 0.70833 to 0.72917, saving model to transferlearning_weights.hdf5\n",
      "4/4 [==============================] - 17s 4s/step - loss: 0.0712 - acc: 0.9725 - val_loss: 0.8620 - val_acc: 0.7292\n",
      "Epoch 38/100\n",
      "3/4 [=====================>........] - ETA: 3s - loss: 0.0935 - acc: 0.9653\n",
      "Epoch 00038: val_acc improved from 0.72917 to 0.76042, saving model to transferlearning_weights.hdf5\n",
      "4/4 [==============================] - 17s 4s/step - loss: 0.0766 - acc: 0.9725 - val_loss: 0.8201 - val_acc: 0.7604\n",
      "Epoch 39/100\n",
      "3/4 [=====================>........] - ETA: 3s - loss: 0.0550 - acc: 0.9792\n",
      "Epoch 00039: val_acc did not improve from 0.76042\n",
      "4/4 [==============================] - 18s 4s/step - loss: 0.0681 - acc: 0.9792 - val_loss: 0.7731 - val_acc: 0.7604\n",
      "Epoch 40/100\n",
      "3/4 [=====================>........] - ETA: 3s - loss: 0.0475 - acc: 0.9813\n",
      "Epoch 00040: val_acc improved from 0.76042 to 0.78125, saving model to transferlearning_weights.hdf5\n",
      "4/4 [==============================] - 17s 4s/step - loss: 0.0487 - acc: 0.9807 - val_loss: 0.7307 - val_acc: 0.7812\n",
      "Epoch 41/100\n",
      "3/4 [=====================>........] - ETA: 3s - loss: 0.0444 - acc: 0.9888\n",
      "Epoch 00041: val_acc improved from 0.78125 to 0.79167, saving model to transferlearning_weights.hdf5\n",
      "4/4 [==============================] - 17s 4s/step - loss: 0.0540 - acc: 0.9807 - val_loss: 0.6946 - val_acc: 0.7917\n",
      "Epoch 42/100\n",
      "3/4 [=====================>........] - ETA: 3s - loss: 0.0455 - acc: 0.9925\n",
      "Epoch 00042: val_acc did not improve from 0.79167\n",
      "4/4 [==============================] - 17s 4s/step - loss: 0.0556 - acc: 0.9862 - val_loss: 0.6596 - val_acc: 0.7917\n",
      "Epoch 43/100\n",
      "3/4 [=====================>........] - ETA: 3s - loss: 0.1012 - acc: 0.9700\n",
      "Epoch 00043: val_acc did not improve from 0.79167\n",
      "4/4 [==============================] - 17s 4s/step - loss: 0.0996 - acc: 0.9669 - val_loss: 0.6293 - val_acc: 0.7917\n",
      "Epoch 44/100\n",
      "3/4 [=====================>........] - ETA: 3s - loss: 0.0814 - acc: 0.9738\n",
      "Epoch 00044: val_acc did not improve from 0.79167\n",
      "4/4 [==============================] - 17s 4s/step - loss: 0.0728 - acc: 0.9780 - val_loss: 0.6014 - val_acc: 0.7917\n",
      "Epoch 45/100\n",
      "3/4 [=====================>........] - ETA: 3s - loss: 0.0437 - acc: 0.9850\n",
      "Epoch 00045: val_acc did not improve from 0.79167\n",
      "4/4 [==============================] - 17s 4s/step - loss: 0.0473 - acc: 0.9835 - val_loss: 0.5737 - val_acc: 0.7917\n",
      "Epoch 46/100\n",
      "3/4 [=====================>........] - ETA: 3s - loss: 0.0594 - acc: 0.9850\n",
      "Epoch 00046: val_acc did not improve from 0.79167\n",
      "\n",
      "Epoch 00046: ReduceLROnPlateau reducing learning rate to 1.000000082740371e-08.\n",
      "4/4 [==============================] - 17s 4s/step - loss: 0.0630 - acc: 0.9835 - val_loss: 0.5508 - val_acc: 0.7917\n",
      "Epoch 47/100\n",
      "3/4 [=====================>........] - ETA: 3s - loss: 0.0469 - acc: 0.9931\n",
      "Epoch 00047: val_acc improved from 0.79167 to 0.81250, saving model to transferlearning_weights.hdf5\n",
      "4/4 [==============================] - 18s 4s/step - loss: 0.0551 - acc: 0.9896 - val_loss: 0.5231 - val_acc: 0.8125\n",
      "Epoch 48/100\n",
      "3/4 [=====================>........] - ETA: 3s - loss: 0.0536 - acc: 0.9738\n",
      "Epoch 00048: val_acc did not improve from 0.81250\n",
      "4/4 [==============================] - 17s 4s/step - loss: 0.0594 - acc: 0.9780 - val_loss: 0.5011 - val_acc: 0.8125\n",
      "Epoch 49/100\n",
      "3/4 [=====================>........] - ETA: 3s - loss: 0.0618 - acc: 0.9775\n",
      "Epoch 00049: val_acc did not improve from 0.81250\n",
      "4/4 [==============================] - 17s 4s/step - loss: 0.0678 - acc: 0.9780 - val_loss: 0.4833 - val_acc: 0.8125\n",
      "Epoch 50/100\n",
      "3/4 [=====================>........] - ETA: 3s - loss: 0.0811 - acc: 0.9625\n",
      "Epoch 00050: val_acc did not improve from 0.81250\n",
      "4/4 [==============================] - 17s 4s/step - loss: 0.0842 - acc: 0.9614 - val_loss: 0.4664 - val_acc: 0.8125\n",
      "Epoch 51/100\n",
      "3/4 [=====================>........] - ETA: 3s - loss: 0.0898 - acc: 0.9549\n",
      "Epoch 00051: val_acc did not improve from 0.81250\n",
      "4/4 [==============================] - 17s 4s/step - loss: 0.0914 - acc: 0.9557 - val_loss: 0.4473 - val_acc: 0.8125\n",
      "Epoch 52/100\n",
      "3/4 [=====================>........] - ETA: 3s - loss: 0.0697 - acc: 0.9757\n",
      "Epoch 00052: val_acc did not improve from 0.81250\n",
      "\n",
      "Epoch 00052: ReduceLROnPlateau reducing learning rate to 1.000000082740371e-09.\n",
      "4/4 [==============================] - 17s 4s/step - loss: 0.0600 - acc: 0.9807 - val_loss: 0.4295 - val_acc: 0.8125\n",
      "Epoch 53/100\n",
      "3/4 [=====================>........] - ETA: 3s - loss: 0.1008 - acc: 0.9722\n",
      "Epoch 00053: val_acc did not improve from 0.81250\n",
      "4/4 [==============================] - 17s 4s/step - loss: 0.0827 - acc: 0.9780 - val_loss: 0.4146 - val_acc: 0.8125\n",
      "Epoch 54/100\n",
      "3/4 [=====================>........] - ETA: 3s - loss: 0.0666 - acc: 0.9826\n",
      "Epoch 00054: val_acc did not improve from 0.81250\n",
      "4/4 [==============================] - 17s 4s/step - loss: 0.0606 - acc: 0.9844 - val_loss: 0.3969 - val_acc: 0.8125\n",
      "Epoch 55/100\n",
      "3/4 [=====================>........] - ETA: 3s - loss: 0.0825 - acc: 0.9700\n",
      "Epoch 00055: val_acc did not improve from 0.81250\n",
      "4/4 [==============================] - 17s 4s/step - loss: 0.0711 - acc: 0.9780 - val_loss: 0.3842 - val_acc: 0.8125\n",
      "Epoch 56/100\n",
      "3/4 [=====================>........] - ETA: 3s - loss: 0.0543 - acc: 0.9931\n",
      "Epoch 00056: val_acc did not improve from 0.81250\n",
      "4/4 [==============================] - 17s 4s/step - loss: 0.0488 - acc: 0.9945 - val_loss: 0.3706 - val_acc: 0.8125\n",
      "Epoch 57/100\n",
      "3/4 [=====================>........] - ETA: 3s - loss: 0.0607 - acc: 0.9850\n",
      "Epoch 00057: val_acc did not improve from 0.81250\n",
      "\n",
      "Epoch 00057: ReduceLROnPlateau reducing learning rate to 1.000000082740371e-10.\n",
      "4/4 [==============================] - 17s 4s/step - loss: 0.0595 - acc: 0.9890 - val_loss: 0.3574 - val_acc: 0.8125\n",
      "Epoch 58/100\n",
      "3/4 [=====================>........] - ETA: 3s - loss: 0.0755 - acc: 0.9775\n",
      "Epoch 00058: val_acc did not improve from 0.81250\n",
      "4/4 [==============================] - 17s 4s/step - loss: 0.0654 - acc: 0.9835 - val_loss: 0.3460 - val_acc: 0.8125\n",
      "Epoch 59/100\n",
      "3/4 [=====================>........] - ETA: 3s - loss: 0.0511 - acc: 0.9888\n",
      "Epoch 00059: val_acc did not improve from 0.81250\n",
      "4/4 [==============================] - 17s 4s/step - loss: 0.0577 - acc: 0.9862 - val_loss: 0.3356 - val_acc: 0.8125\n",
      "Epoch 60/100\n",
      "3/4 [=====================>........] - ETA: 3s - loss: 0.0644 - acc: 0.9850\n",
      "Epoch 00060: val_acc did not improve from 0.81250\n",
      "4/4 [==============================] - 17s 4s/step - loss: 0.0719 - acc: 0.9780 - val_loss: 0.3263 - val_acc: 0.8125\n"
     ]
    },
    {
     "name": "stdout",
     "output_type": "stream",
     "text": [
      "Epoch 61/100\n",
      "3/4 [=====================>........] - ETA: 3s - loss: 0.0608 - acc: 0.9775\n",
      "Epoch 00061: val_acc improved from 0.81250 to 0.82292, saving model to transferlearning_weights.hdf5\n",
      "4/4 [==============================] - 17s 4s/step - loss: 0.0598 - acc: 0.9807 - val_loss: 0.3170 - val_acc: 0.8229\n",
      "Epoch 62/100\n",
      "3/4 [=====================>........] - ETA: 3s - loss: 0.0536 - acc: 0.9850\n",
      "Epoch 00062: val_acc improved from 0.82292 to 0.83333, saving model to transferlearning_weights.hdf5\n",
      "4/4 [==============================] - 17s 4s/step - loss: 0.0529 - acc: 0.9835 - val_loss: 0.3080 - val_acc: 0.8333\n",
      "Epoch 63/100\n",
      "3/4 [=====================>........] - ETA: 3s - loss: 0.0802 - acc: 0.9757\n",
      "Epoch 00063: val_acc did not improve from 0.83333\n",
      "4/4 [==============================] - 17s 4s/step - loss: 0.0739 - acc: 0.9818 - val_loss: 0.2987 - val_acc: 0.8333\n",
      "Epoch 64/100\n",
      "3/4 [=====================>........] - ETA: 3s - loss: 0.0651 - acc: 0.9792\n",
      "Epoch 00064: val_acc did not improve from 0.83333\n",
      "4/4 [==============================] - 17s 4s/step - loss: 0.0718 - acc: 0.9792 - val_loss: 0.2904 - val_acc: 0.8333\n",
      "Epoch 65/100\n",
      "3/4 [=====================>........] - ETA: 3s - loss: 0.1008 - acc: 0.9583\n",
      "Epoch 00065: val_acc did not improve from 0.83333\n",
      "4/4 [==============================] - 17s 4s/step - loss: 0.0839 - acc: 0.9669 - val_loss: 0.2837 - val_acc: 0.8333\n",
      "Epoch 66/100\n",
      "3/4 [=====================>........] - ETA: 3s - loss: 0.0598 - acc: 0.9925\n",
      "Epoch 00066: val_acc did not improve from 0.83333\n",
      "4/4 [==============================] - 17s 4s/step - loss: 0.0680 - acc: 0.9862 - val_loss: 0.2776 - val_acc: 0.8333\n",
      "Epoch 67/100\n",
      "3/4 [=====================>........] - ETA: 3s - loss: 0.0749 - acc: 0.9722\n",
      "Epoch 00067: val_acc improved from 0.83333 to 0.84375, saving model to transferlearning_weights.hdf5\n",
      "4/4 [==============================] - 18s 4s/step - loss: 0.0811 - acc: 0.9661 - val_loss: 0.2699 - val_acc: 0.8438\n",
      "Epoch 68/100\n",
      "3/4 [=====================>........] - ETA: 3s - loss: 0.0768 - acc: 0.9653\n",
      "Epoch 00068: val_acc improved from 0.84375 to 0.85417, saving model to transferlearning_weights.hdf5\n",
      "4/4 [==============================] - 18s 4s/step - loss: 0.0712 - acc: 0.9688 - val_loss: 0.2632 - val_acc: 0.8542\n",
      "Epoch 69/100\n",
      "3/4 [=====================>........] - ETA: 3s - loss: 0.0367 - acc: 0.9925\n",
      "Epoch 00069: val_acc did not improve from 0.85417\n",
      "4/4 [==============================] - 17s 4s/step - loss: 0.0433 - acc: 0.9835 - val_loss: 0.2567 - val_acc: 0.8542\n",
      "Epoch 70/100\n",
      "3/4 [=====================>........] - ETA: 3s - loss: 0.0788 - acc: 0.9663\n",
      "Epoch 00070: val_acc did not improve from 0.85417\n",
      "4/4 [==============================] - 17s 4s/step - loss: 0.0698 - acc: 0.9752 - val_loss: 0.2523 - val_acc: 0.8542\n",
      "Epoch 71/100\n",
      "3/4 [=====================>........] - ETA: 3s - loss: 0.0561 - acc: 0.9850\n",
      "Epoch 00071: val_acc did not improve from 0.85417\n",
      "4/4 [==============================] - 17s 4s/step - loss: 0.0604 - acc: 0.9780 - val_loss: 0.2476 - val_acc: 0.8542\n",
      "Epoch 72/100\n",
      "3/4 [=====================>........] - ETA: 3s - loss: 0.0454 - acc: 0.9963\n",
      "Epoch 00072: val_acc did not improve from 0.85417\n",
      "4/4 [==============================] - 17s 4s/step - loss: 0.0462 - acc: 0.9972 - val_loss: 0.2419 - val_acc: 0.8542\n",
      "Epoch 73/100\n",
      "3/4 [=====================>........] - ETA: 3s - loss: 0.0598 - acc: 0.9826\n",
      "Epoch 00073: val_acc did not improve from 0.85417\n",
      "\n",
      "Epoch 00073: ReduceLROnPlateau reducing learning rate to 1.000000082740371e-11.\n",
      "4/4 [==============================] - 17s 4s/step - loss: 0.0500 - acc: 0.9862 - val_loss: 0.2366 - val_acc: 0.8542\n",
      "Epoch 74/100\n",
      "3/4 [=====================>........] - ETA: 3s - loss: 0.0802 - acc: 0.9722\n",
      "Epoch 00074: val_acc did not improve from 0.85417\n",
      "4/4 [==============================] - 18s 4s/step - loss: 0.0707 - acc: 0.9792 - val_loss: 0.2313 - val_acc: 0.8542\n",
      "Epoch 75/100\n",
      "3/4 [=====================>........] - ETA: 3s - loss: 0.0443 - acc: 0.9925\n",
      "Epoch 00075: val_acc improved from 0.85417 to 0.86458, saving model to transferlearning_weights.hdf5\n",
      "4/4 [==============================] - 17s 4s/step - loss: 0.0437 - acc: 0.9917 - val_loss: 0.2275 - val_acc: 0.8646\n",
      "Epoch 76/100\n",
      "3/4 [=====================>........] - ETA: 3s - loss: 0.0418 - acc: 0.9965\n",
      "Epoch 00076: val_acc did not improve from 0.86458\n",
      "4/4 [==============================] - 17s 4s/step - loss: 0.0378 - acc: 0.9974 - val_loss: 0.2233 - val_acc: 0.8646\n",
      "Epoch 77/100\n",
      "3/4 [=====================>........] - ETA: 3s - loss: 0.0494 - acc: 0.9888\n",
      "Epoch 00077: val_acc did not improve from 0.86458\n",
      "4/4 [==============================] - 17s 4s/step - loss: 0.0623 - acc: 0.9807 - val_loss: 0.2200 - val_acc: 0.8646\n",
      "Epoch 78/100\n",
      "3/4 [=====================>........] - ETA: 3s - loss: 0.0868 - acc: 0.9722\n",
      "Epoch 00078: val_acc did not improve from 0.86458\n",
      "4/4 [==============================] - 17s 4s/step - loss: 0.0711 - acc: 0.9780 - val_loss: 0.2181 - val_acc: 0.8646\n",
      "Epoch 79/100\n",
      "3/4 [=====================>........] - ETA: 3s - loss: 0.0770 - acc: 0.9618\n",
      "Epoch 00079: val_acc did not improve from 0.86458\n",
      "4/4 [==============================] - 17s 4s/step - loss: 0.0726 - acc: 0.9714 - val_loss: 0.2144 - val_acc: 0.8646\n",
      "Epoch 80/100\n",
      "3/4 [=====================>........] - ETA: 3s - loss: 0.0490 - acc: 0.9925\n",
      "Epoch 00080: val_acc did not improve from 0.86458\n",
      "\n",
      "Epoch 00080: ReduceLROnPlateau reducing learning rate to 1.000000082740371e-12.\n",
      "4/4 [==============================] - 17s 4s/step - loss: 0.0440 - acc: 0.9945 - val_loss: 0.2115 - val_acc: 0.8646\n",
      "Epoch 81/100\n",
      "3/4 [=====================>........] - ETA: 3s - loss: 0.0390 - acc: 0.9925\n",
      "Epoch 00081: val_acc did not improve from 0.86458\n",
      "4/4 [==============================] - 17s 4s/step - loss: 0.0489 - acc: 0.9835 - val_loss: 0.2086 - val_acc: 0.8646\n",
      "Epoch 82/100\n",
      "3/4 [=====================>........] - ETA: 3s - loss: 0.0646 - acc: 0.9813\n",
      "Epoch 00082: val_acc did not improve from 0.86458\n",
      "4/4 [==============================] - 17s 4s/step - loss: 0.0577 - acc: 0.9862 - val_loss: 0.2067 - val_acc: 0.8646\n",
      "Epoch 83/100\n",
      "3/4 [=====================>........] - ETA: 3s - loss: 0.0713 - acc: 0.9792\n",
      "Epoch 00083: val_acc did not improve from 0.86458\n",
      "4/4 [==============================] - 17s 4s/step - loss: 0.0648 - acc: 0.9835 - val_loss: 0.2046 - val_acc: 0.8646\n",
      "Epoch 84/100\n",
      "3/4 [=====================>........] - ETA: 3s - loss: 0.0432 - acc: 0.9925\n",
      "Epoch 00084: val_acc improved from 0.86458 to 0.87500, saving model to transferlearning_weights.hdf5\n",
      "4/4 [==============================] - 17s 4s/step - loss: 0.0682 - acc: 0.9862 - val_loss: 0.2020 - val_acc: 0.8750\n",
      "Epoch 85/100\n",
      "3/4 [=====================>........] - ETA: 3s - loss: 0.0405 - acc: 0.9963\n",
      "Epoch 00085: val_acc improved from 0.87500 to 0.89583, saving model to transferlearning_weights.hdf5\n",
      "4/4 [==============================] - 17s 4s/step - loss: 0.0505 - acc: 0.9917 - val_loss: 0.1993 - val_acc: 0.8958\n",
      "Epoch 86/100\n",
      "3/4 [=====================>........] - ETA: 3s - loss: 0.0942 - acc: 0.9688\n",
      "Epoch 00086: val_acc did not improve from 0.89583\n",
      "4/4 [==============================] - 18s 4s/step - loss: 0.0949 - acc: 0.9740 - val_loss: 0.1968 - val_acc: 0.8958\n",
      "Epoch 87/100\n",
      "3/4 [=====================>........] - ETA: 3s - loss: 0.0730 - acc: 0.9792\n",
      "Epoch 00087: val_acc did not improve from 0.89583\n",
      "4/4 [==============================] - 17s 4s/step - loss: 0.0630 - acc: 0.9835 - val_loss: 0.1950 - val_acc: 0.8958\n",
      "Epoch 88/100\n",
      "3/4 [=====================>........] - ETA: 3s - loss: 0.0426 - acc: 0.9931\n",
      "Epoch 00088: val_acc did not improve from 0.89583\n",
      "4/4 [==============================] - 17s 4s/step - loss: 0.0443 - acc: 0.9945 - val_loss: 0.1933 - val_acc: 0.8958\n",
      "Epoch 89/100\n",
      "3/4 [=====================>........] - ETA: 3s - loss: 0.0478 - acc: 0.9850\n",
      "Epoch 00089: val_acc did not improve from 0.89583\n",
      "4/4 [==============================] - 17s 4s/step - loss: 0.0549 - acc: 0.9835 - val_loss: 0.1921 - val_acc: 0.8958\n",
      "Epoch 90/100\n",
      "3/4 [=====================>........] - ETA: 3s - loss: 0.0687 - acc: 0.9700\n",
      "Epoch 00090: val_acc did not improve from 0.89583\n",
      "\n",
      "Epoch 00090: ReduceLROnPlateau reducing learning rate to 1.0000001044244145e-13.\n",
      "4/4 [==============================] - 17s 4s/step - loss: 0.0722 - acc: 0.9697 - val_loss: 0.1902 - val_acc: 0.8958\n"
     ]
    },
    {
     "name": "stdout",
     "output_type": "stream",
     "text": [
      "Epoch 91/100\n",
      "3/4 [=====================>........] - ETA: 3s - loss: 0.0832 - acc: 0.9700\n",
      "Epoch 00091: val_acc did not improve from 0.89583\n",
      "4/4 [==============================] - 17s 4s/step - loss: 0.0789 - acc: 0.9752 - val_loss: 0.1886 - val_acc: 0.8958\n",
      "Epoch 92/100\n",
      "3/4 [=====================>........] - ETA: 3s - loss: 0.0477 - acc: 0.9813\n",
      "Epoch 00092: val_acc did not improve from 0.89583\n",
      "4/4 [==============================] - 17s 4s/step - loss: 0.0630 - acc: 0.9752 - val_loss: 0.1877 - val_acc: 0.8958\n",
      "Epoch 93/100\n",
      "3/4 [=====================>........] - ETA: 3s - loss: 0.0697 - acc: 0.9792\n",
      "Epoch 00093: val_acc did not improve from 0.89583\n",
      "4/4 [==============================] - 17s 4s/step - loss: 0.0634 - acc: 0.9835 - val_loss: 0.1861 - val_acc: 0.8958\n",
      "Epoch 94/100\n",
      "3/4 [=====================>........] - ETA: 3s - loss: 0.0810 - acc: 0.9588\n",
      "Epoch 00094: val_acc did not improve from 0.89583\n",
      "4/4 [==============================] - 17s 4s/step - loss: 0.0883 - acc: 0.9642 - val_loss: 0.1851 - val_acc: 0.8958\n",
      "Epoch 95/100\n",
      "3/4 [=====================>........] - ETA: 3s - loss: 0.0737 - acc: 0.9738\n",
      "Epoch 00095: val_acc did not improve from 0.89583\n",
      "\n",
      "Epoch 00095: ReduceLROnPlateau reducing learning rate to 1.0000001179769417e-14.\n",
      "4/4 [==============================] - 17s 4s/step - loss: 0.0637 - acc: 0.9807 - val_loss: 0.1841 - val_acc: 0.8958\n",
      "Epoch 96/100\n",
      "3/4 [=====================>........] - ETA: 3s - loss: 0.0668 - acc: 0.9775\n",
      "Epoch 00096: val_acc did not improve from 0.89583\n",
      "4/4 [==============================] - 17s 4s/step - loss: 0.0695 - acc: 0.9780 - val_loss: 0.1831 - val_acc: 0.8958\n",
      "Epoch 97/100\n",
      "3/4 [=====================>........] - ETA: 3s - loss: 0.0459 - acc: 0.9850\n",
      "Epoch 00097: val_acc did not improve from 0.89583\n",
      "4/4 [==============================] - 17s 4s/step - loss: 0.0444 - acc: 0.9890 - val_loss: 0.1816 - val_acc: 0.8958\n",
      "Epoch 98/100\n",
      "3/4 [=====================>........] - ETA: 3s - loss: 0.0571 - acc: 0.9896\n",
      "Epoch 00098: val_acc did not improve from 0.89583\n",
      "4/4 [==============================] - 17s 4s/step - loss: 0.0485 - acc: 0.9917 - val_loss: 0.1804 - val_acc: 0.8958\n",
      "Epoch 99/100\n",
      "3/4 [=====================>........] - ETA: 3s - loss: 0.0545 - acc: 0.9850\n",
      "Epoch 00099: val_acc did not improve from 0.89583\n",
      "4/4 [==============================] - 17s 4s/step - loss: 0.0678 - acc: 0.9725 - val_loss: 0.1800 - val_acc: 0.8958\n",
      "Epoch 100/100\n",
      "3/4 [=====================>........] - ETA: 3s - loss: 0.0643 - acc: 0.9775\n",
      "Epoch 00100: val_acc did not improve from 0.89583\n",
      "\n",
      "Epoch 00100: ReduceLROnPlateau reducing learning rate to 1.0000001518582595e-15.\n",
      "4/4 [==============================] - 17s 4s/step - loss: 0.0647 - acc: 0.9780 - val_loss: 0.1788 - val_acc: 0.8958\n"
     ]
    }
   ],
   "source": [
    "history = model.fit_generator(\n",
    "                              data_aug,\n",
    "                              steps_per_epoch=len(trainX)// batch_size, # parte inteira da divisão\n",
    "                              validation_data=(testX, testY),\n",
    "                              validation_steps=len(testX) // batch_size,# parte inteira da divisão\n",
    "                              callbacks=callbacks,\n",
    "                              epochs=epoch)\n",
    "\n"
   ]
  },
  {
   "cell_type": "markdown",
   "metadata": {},
   "source": [
    "# ANALISANDO DADOS"
   ]
  },
  {
   "cell_type": "code",
   "execution_count": 119,
   "metadata": {},
   "outputs": [],
   "source": [
    "import matplotlib.pyplot as plt\n",
    "%matplotlib inline"
   ]
  },
  {
   "cell_type": "code",
   "execution_count": 120,
   "metadata": {},
   "outputs": [
    {
     "data": {
      "image/png": "[encoded data removed]",
      "text/plain": [
       "<Figure size 432x288 with 1 Axes>"
      ]
     },
     "metadata": {
      "needs_background": "light"
     },
     "output_type": "display_data"
    },
    {
     "data": {
      "image/png": "[encoded data removed]",
      "text/plain": [
       "<Figure size 432x288 with 1 Axes>"
      ]
     },
     "metadata": {
      "needs_background": "light"
     },
     "output_type": "display_data"
    }
   ],
   "source": [
    "plt.plot(history.history['acc'])\n",
    "plt.plot(history.history['val_acc'])\n",
    "plt.title('model accuracy')\n",
    "plt.ylabel('accuracy')\n",
    "plt.xlabel('epoch')\n",
    "plt.legend(['train', 'test'], loc='upper left')\n",
    "plt.show()\n",
    "# summarize history for loss\n",
    "plt.plot(history.history['loss'])\n",
    "plt.plot(history.history['val_loss'])\n",
    "plt.title('model loss')\n",
    "plt.ylabel('loss')\n",
    "plt.xlabel('epoch')\n",
    "plt.legend(['train', 'test'], loc='upper left')\n",
    "plt.show()"
   ]
  },
  {
   "cell_type": "markdown",
   "metadata": {},
   "source": [
    "## Gerando matriz de confusão"
   ]
  },
  {
   "cell_type": "code",
   "execution_count": 121,
   "metadata": {},
   "outputs": [],
   "source": [
    "from sklearn.metrics import confusion_matrix\n",
    "pred = model.predict(testX)\n",
    "pred = np.argmax(pred,axis = 1) \n",
    "y_true = np.argmax(testY,axis = 1)"
   ]
  },
  {
   "cell_type": "code",
   "execution_count": 123,
   "metadata": {},
   "outputs": [
    {
     "name": "stdout",
     "output_type": "stream",
     "text": [
      "Acurácia: 0.8462\n",
      "Sensitividade: 0.8333\n",
      "Especificidade: 0.9231\n"
     ]
    },
    {
     "data": {
      "image/png": "[encoded data removed]",
      "text/plain": [
       "<Figure size 360x360 with 1 Axes>"
      ]
     },
     "metadata": {
      "needs_background": "light"
     },
     "output_type": "display_data"
    }
   ],
   "source": [
    "cm = confusion_matrix(y_true, pred)\n",
    "total = sum(sum(cm))\n",
    "acc = (cm[0, 0] + cm[1, 1] + cm[2,2]) / total\n",
    "sensitivity = cm[0, 0] / (cm[0, 0] + cm[0, 1])\n",
    "specificity = cm[1, 1] / (cm[1, 0] + cm[1, 1])\n",
    "\n",
    "print(\"Acurácia: {:.4f}\".format(acc))\n",
    "print(\"Sensitividade: {:.4f}\".format(sensitivity))\n",
    "print(\"Especificidade: {:.4f}\".format(specificity))\n",
    "\n",
    "from mlxtend.plotting import plot_confusion_matrix\n",
    "fig, ax = plot_confusion_matrix(conf_mat=cm ,  figsize=(5, 5))\n",
    "plt.show()"
   ]
  },
  {
   "cell_type": "markdown",
   "metadata": {},
   "source": [
    "### **Detector COVID-19 automático 96,15% de Acurácia.**"
   ]
  },
  {
   "cell_type": "markdown",
   "metadata": {},
   "source": [
    "Também estamos obtendo 100% de sensibilidade e 92% de especificidade, o que implica que:\n",
    "\n",
    "- Sensibilidade, capacidade indentificar caso positivo de COVID-19 com o modelo é de 100%.\n",
    "\n",
    "\n",
    "- Especificidade, capacidade indentificar caso Não-Positivo de COVID-19 com o modelo é de 92,31%.\n",
    "\n",
    "\n",
    "- Como mostra nosso gráfico de histórico de treinamento, nossa rede não está adaptando demais, apesar de ter dados de treinamento limitado"
   ]
  }
 ],
 "metadata": {
  "kernelspec": {
   "display_name": "Python 3",
   "language": "python",
   "name": "python3"
  },
  "language_info": {
   "codemirror_mode": {
    "name": "ipython",
    "version": 3
   },
   "file_extension": ".py",
   "mimetype": "text/x-python",
   "name": "python",
   "nbconvert_exporter": "python",
   "pygments_lexer": "ipython3",
   "version": "3.6.8"
  }
 },
 "nbformat": 4,
 "nbformat_minor": 2
}
